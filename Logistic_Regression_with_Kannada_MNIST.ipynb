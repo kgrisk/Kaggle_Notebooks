{
  "nbformat": 4,
  "nbformat_minor": 0,
  "metadata": {
    "colab": {
      "name": "Logistic Regression with Kannada-MNIST",
      "provenance": [],
      "collapsed_sections": [],
      "authorship_tag": "ABX9TyPfNqKIfWJuhOlRgzPko++J",
      "include_colab_link": true
    },
    "kernelspec": {
      "name": "python3",
      "display_name": "Python 3"
    },
    "accelerator": "GPU"
  },
  "cells": [
    {
      "cell_type": "markdown",
      "metadata": {
        "id": "view-in-github",
        "colab_type": "text"
      },
      "source": [
        "<a href=\"https://colab.research.google.com/github/kgrisk/Kaggle_Notebooks/blob/master/Logistic_Regression_with_Kannada_MNIST.ipynb\" target=\"_parent\"><img src=\"https://colab.research.google.com/assets/colab-badge.svg\" alt=\"Open In Colab\"/></a>"
      ]
    },
    {
      "cell_type": "code",
      "metadata": {
        "id": "ad_9x51kRdZJ",
        "colab_type": "code",
        "colab": {
          "base_uri": "https://localhost:8080/",
          "height": 1000
        },
        "outputId": "c7d1b901-846c-44a6-8317-93ecacbebb8f"
      },
      "source": [
        "!pip install fastai2\n",
        "!pip install panda"
      ],
      "execution_count": 1,
      "outputs": [
        {
          "output_type": "stream",
          "text": [
            "Collecting fastai2\n",
            "\u001b[?25l  Downloading https://files.pythonhosted.org/packages/26/4f/0f61bb0d376eb47c20430639bac4946ca0cffcd7e693fb86698656324f2d/fastai2-0.0.17-py3-none-any.whl (190kB)\n",
            "\r\u001b[K     |█▊                              | 10kB 16.2MB/s eta 0:00:01\r\u001b[K     |███▌                            | 20kB 4.5MB/s eta 0:00:01\r\u001b[K     |█████▏                          | 30kB 4.6MB/s eta 0:00:01\r\u001b[K     |███████                         | 40kB 5.1MB/s eta 0:00:01\r\u001b[K     |████████▋                       | 51kB 5.0MB/s eta 0:00:01\r\u001b[K     |██████████▍                     | 61kB 5.5MB/s eta 0:00:01\r\u001b[K     |████████████                    | 71kB 6.1MB/s eta 0:00:01\r\u001b[K     |█████████████▉                  | 81kB 6.4MB/s eta 0:00:01\r\u001b[K     |███████████████▌                | 92kB 6.2MB/s eta 0:00:01\r\u001b[K     |█████████████████▎              | 102kB 6.5MB/s eta 0:00:01\r\u001b[K     |███████████████████             | 112kB 6.5MB/s eta 0:00:01\r\u001b[K     |████████████████████▊           | 122kB 6.5MB/s eta 0:00:01\r\u001b[K     |██████████████████████▍         | 133kB 6.5MB/s eta 0:00:01\r\u001b[K     |████████████████████████▏       | 143kB 6.5MB/s eta 0:00:01\r\u001b[K     |█████████████████████████▉      | 153kB 6.5MB/s eta 0:00:01\r\u001b[K     |███████████████████████████▋    | 163kB 6.5MB/s eta 0:00:01\r\u001b[K     |█████████████████████████████▎  | 174kB 6.5MB/s eta 0:00:01\r\u001b[K     |███████████████████████████████ | 184kB 6.5MB/s eta 0:00:01\r\u001b[K     |████████████████████████████████| 194kB 6.5MB/s \n",
            "\u001b[?25hCollecting fastcore\n",
            "  Downloading https://files.pythonhosted.org/packages/e2/6e/a18c0ff6cdca36915e65cf1690137134241a33d74ceef7882f4a63a6af55/fastcore-0.1.18-py3-none-any.whl\n",
            "Requirement already satisfied: pyyaml in /usr/local/lib/python3.6/dist-packages (from fastai2) (3.13)\n",
            "Requirement already satisfied: pillow in /usr/local/lib/python3.6/dist-packages (from fastai2) (7.0.0)\n",
            "Requirement already satisfied: torchvision>=0.5 in /usr/local/lib/python3.6/dist-packages (from fastai2) (0.6.1+cu101)\n",
            "Requirement already satisfied: pandas in /usr/local/lib/python3.6/dist-packages (from fastai2) (1.0.5)\n",
            "Requirement already satisfied: fastprogress>=0.1.22 in /usr/local/lib/python3.6/dist-packages (from fastai2) (0.2.3)\n",
            "Requirement already satisfied: torch>=1.3.0 in /usr/local/lib/python3.6/dist-packages (from fastai2) (1.5.1+cu101)\n",
            "Requirement already satisfied: scikit-learn in /usr/local/lib/python3.6/dist-packages (from fastai2) (0.22.2.post1)\n",
            "Requirement already satisfied: spacy in /usr/local/lib/python3.6/dist-packages (from fastai2) (2.2.4)\n",
            "Requirement already satisfied: matplotlib in /usr/local/lib/python3.6/dist-packages (from fastai2) (3.2.2)\n",
            "Requirement already satisfied: scipy in /usr/local/lib/python3.6/dist-packages (from fastai2) (1.4.1)\n",
            "Requirement already satisfied: requests in /usr/local/lib/python3.6/dist-packages (from fastai2) (2.23.0)\n",
            "Requirement already satisfied: dataclasses>='0.7'; python_version < \"3.7\" in /usr/local/lib/python3.6/dist-packages (from fastcore->fastai2) (0.7)\n",
            "Requirement already satisfied: numpy in /usr/local/lib/python3.6/dist-packages (from fastcore->fastai2) (1.18.5)\n",
            "Requirement already satisfied: pytz>=2017.2 in /usr/local/lib/python3.6/dist-packages (from pandas->fastai2) (2018.9)\n",
            "Requirement already satisfied: python-dateutil>=2.6.1 in /usr/local/lib/python3.6/dist-packages (from pandas->fastai2) (2.8.1)\n",
            "Requirement already satisfied: future in /usr/local/lib/python3.6/dist-packages (from torch>=1.3.0->fastai2) (0.16.0)\n",
            "Requirement already satisfied: joblib>=0.11 in /usr/local/lib/python3.6/dist-packages (from scikit-learn->fastai2) (0.15.1)\n",
            "Requirement already satisfied: srsly<1.1.0,>=1.0.2 in /usr/local/lib/python3.6/dist-packages (from spacy->fastai2) (1.0.2)\n",
            "Requirement already satisfied: cymem<2.1.0,>=2.0.2 in /usr/local/lib/python3.6/dist-packages (from spacy->fastai2) (2.0.3)\n",
            "Requirement already satisfied: wasabi<1.1.0,>=0.4.0 in /usr/local/lib/python3.6/dist-packages (from spacy->fastai2) (0.6.0)\n",
            "Requirement already satisfied: tqdm<5.0.0,>=4.38.0 in /usr/local/lib/python3.6/dist-packages (from spacy->fastai2) (4.41.1)\n",
            "Requirement already satisfied: thinc==7.4.0 in /usr/local/lib/python3.6/dist-packages (from spacy->fastai2) (7.4.0)\n",
            "Requirement already satisfied: setuptools in /usr/local/lib/python3.6/dist-packages (from spacy->fastai2) (47.3.1)\n",
            "Requirement already satisfied: catalogue<1.1.0,>=0.0.7 in /usr/local/lib/python3.6/dist-packages (from spacy->fastai2) (1.0.0)\n",
            "Requirement already satisfied: murmurhash<1.1.0,>=0.28.0 in /usr/local/lib/python3.6/dist-packages (from spacy->fastai2) (1.0.2)\n",
            "Requirement already satisfied: plac<1.2.0,>=0.9.6 in /usr/local/lib/python3.6/dist-packages (from spacy->fastai2) (1.1.3)\n",
            "Requirement already satisfied: preshed<3.1.0,>=3.0.2 in /usr/local/lib/python3.6/dist-packages (from spacy->fastai2) (3.0.2)\n",
            "Requirement already satisfied: blis<0.5.0,>=0.4.0 in /usr/local/lib/python3.6/dist-packages (from spacy->fastai2) (0.4.1)\n",
            "Requirement already satisfied: pyparsing!=2.0.4,!=2.1.2,!=2.1.6,>=2.0.1 in /usr/local/lib/python3.6/dist-packages (from matplotlib->fastai2) (2.4.7)\n",
            "Requirement already satisfied: cycler>=0.10 in /usr/local/lib/python3.6/dist-packages (from matplotlib->fastai2) (0.10.0)\n",
            "Requirement already satisfied: kiwisolver>=1.0.1 in /usr/local/lib/python3.6/dist-packages (from matplotlib->fastai2) (1.2.0)\n",
            "Requirement already satisfied: idna<3,>=2.5 in /usr/local/lib/python3.6/dist-packages (from requests->fastai2) (2.9)\n",
            "Requirement already satisfied: certifi>=2017.4.17 in /usr/local/lib/python3.6/dist-packages (from requests->fastai2) (2020.4.5.2)\n",
            "Requirement already satisfied: urllib3!=1.25.0,!=1.25.1,<1.26,>=1.21.1 in /usr/local/lib/python3.6/dist-packages (from requests->fastai2) (1.24.3)\n",
            "Requirement already satisfied: chardet<4,>=3.0.2 in /usr/local/lib/python3.6/dist-packages (from requests->fastai2) (3.0.4)\n",
            "Requirement already satisfied: six>=1.5 in /usr/local/lib/python3.6/dist-packages (from python-dateutil>=2.6.1->pandas->fastai2) (1.12.0)\n",
            "Requirement already satisfied: importlib-metadata>=0.20; python_version < \"3.8\" in /usr/local/lib/python3.6/dist-packages (from catalogue<1.1.0,>=0.0.7->spacy->fastai2) (1.6.1)\n",
            "Requirement already satisfied: zipp>=0.5 in /usr/local/lib/python3.6/dist-packages (from importlib-metadata>=0.20; python_version < \"3.8\"->catalogue<1.1.0,>=0.0.7->spacy->fastai2) (3.1.0)\n",
            "Installing collected packages: fastcore, fastai2\n",
            "Successfully installed fastai2-0.0.17 fastcore-0.1.18\n",
            "Collecting panda\n",
            "  Downloading https://files.pythonhosted.org/packages/79/03/74996420528fe488ce17c42b6400531c8067d7eb661c304fa3aa8fdad17c/panda-0.3.1.tar.gz\n",
            "Requirement already satisfied: setuptools in /usr/local/lib/python3.6/dist-packages (from panda) (47.3.1)\n",
            "Requirement already satisfied: requests in /usr/local/lib/python3.6/dist-packages (from panda) (2.23.0)\n",
            "Requirement already satisfied: urllib3!=1.25.0,!=1.25.1,<1.26,>=1.21.1 in /usr/local/lib/python3.6/dist-packages (from requests->panda) (1.24.3)\n",
            "Requirement already satisfied: chardet<4,>=3.0.2 in /usr/local/lib/python3.6/dist-packages (from requests->panda) (3.0.4)\n",
            "Requirement already satisfied: idna<3,>=2.5 in /usr/local/lib/python3.6/dist-packages (from requests->panda) (2.9)\n",
            "Requirement already satisfied: certifi>=2017.4.17 in /usr/local/lib/python3.6/dist-packages (from requests->panda) (2020.4.5.2)\n",
            "Building wheels for collected packages: panda\n",
            "  Building wheel for panda (setup.py) ... \u001b[?25l\u001b[?25hdone\n",
            "  Created wheel for panda: filename=panda-0.3.1-cp36-none-any.whl size=7260 sha256=8c94fd1e6ab229208bcc5e0c4ebd5235eec6759fae288f948aea3f5b1feb86e9\n",
            "  Stored in directory: /root/.cache/pip/wheels/c6/c8/45/06ed898b0bb401c1ff207dbb05b1587ff28860a236d98b1996\n",
            "Successfully built panda\n",
            "Installing collected packages: panda\n",
            "Successfully installed panda-0.3.1\n"
          ],
          "name": "stdout"
        }
      ]
    },
    {
      "cell_type": "code",
      "metadata": {
        "id": "YhYtiJSMfrn1",
        "colab_type": "code",
        "colab": {}
      },
      "source": [
        "import graphviz\n",
        "def gv(s): return graphviz.Source('digraph G{ rankdir=\"LR\"' + s + '; }')"
      ],
      "execution_count": 124,
      "outputs": []
    },
    {
      "cell_type": "markdown",
      "metadata": {
        "id": "ZOywbaB0eGgM",
        "colab_type": "text"
      },
      "source": [
        "\n",
        "#Simple neural network with Kannada-MNIST\n"
      ]
    },
    {
      "cell_type": "markdown",
      "metadata": {
        "id": "qaeyhyLAg4HQ",
        "colab_type": "text"
      },
      "source": [
        "Hello,\n",
        " In this blog, I am going to implement a simple linear model using logistic regression and will extend it to the simple neural network. This will mainly be based on fastai books, chapter 4, remaking it with Kannada-MNIST. This blog won't include any visual explanations on how neural networks works and will be focused on the explanation of the written code.\n",
        "So let us start!\n",
        "Whether you are making a neural network, you usually follow these 7 steps.\n",
        "1.  Initialize the weights.\n",
        "2.  For each image, make a forward pass through your network using the values of the weights to calculate the predictions.\n",
        "3.  Compare the predictions with actual values and calculate the loss.\n",
        "4.  Backpropagate the loss through your network. This will calculate the gradient for each of your parameters.\n",
        "5.  Subtract part of the gradients from each of your parameters, that way making them closer to the values that you need to make accurate predictions.\n",
        "6.  Go back to step 2 and repeat the process.\n",
        "7.  Repeat the process until you decided that the model is good enough, or you can no longer improve.\n"
      ]
    },
    {
      "cell_type": "code",
      "metadata": {
        "id": "JYtX8zo3fTfG",
        "colab_type": "code",
        "colab": {
          "base_uri": "https://localhost:8080/",
          "height": 125
        },
        "outputId": "3538fa54-2074-49eb-844d-aa4804ac51ff"
      },
      "source": [
        "gv('''\n",
        "init->predict->loss->gradient->step->stop\n",
        "step->predict[label=repeat]\n",
        "''')"
      ],
      "execution_count": 125,
      "outputs": [
        {
          "output_type": "execute_result",
          "data": {
            "text/plain": [
              "<graphviz.files.Source at 0x7ff905d3bf60>"
            ],
            "image/svg+xml": "<?xml version=\"1.0\" encoding=\"UTF-8\" standalone=\"no\"?>\n<!DOCTYPE svg PUBLIC \"-//W3C//DTD SVG 1.1//EN\"\n \"http://www.w3.org/Graphics/SVG/1.1/DTD/svg11.dtd\">\n<!-- Generated by graphviz version 2.40.1 (20161225.0304)\n -->\n<!-- Title: G Pages: 1 -->\n<svg width=\"597pt\" height=\"78pt\"\n viewBox=\"0.00 0.00 596.69 78.00\" xmlns=\"http://www.w3.org/2000/svg\" xmlns:xlink=\"http://www.w3.org/1999/xlink\">\n<g id=\"graph0\" class=\"graph\" transform=\"scale(1 1) rotate(0) translate(4 74)\">\n<title>G</title>\n<polygon fill=\"#ffffff\" stroke=\"transparent\" points=\"-4,4 -4,-74 592.6863,-74 592.6863,4 -4,4\"/>\n<!-- init -->\n<g id=\"node1\" class=\"node\">\n<title>init</title>\n<ellipse fill=\"none\" stroke=\"#000000\" cx=\"27\" cy=\"-18\" rx=\"27\" ry=\"18\"/>\n<text text-anchor=\"middle\" x=\"27\" y=\"-14.3\" font-family=\"Times,serif\" font-size=\"14.00\" fill=\"#000000\">init</text>\n</g>\n<!-- predict -->\n<g id=\"node2\" class=\"node\">\n<title>predict</title>\n<ellipse fill=\"none\" stroke=\"#000000\" cx=\"127.3968\" cy=\"-18\" rx=\"36.2938\" ry=\"18\"/>\n<text text-anchor=\"middle\" x=\"127.3968\" y=\"-14.3\" font-family=\"Times,serif\" font-size=\"14.00\" fill=\"#000000\">predict</text>\n</g>\n<!-- init&#45;&gt;predict -->\n<g id=\"edge1\" class=\"edge\">\n<title>init&#45;&gt;predict</title>\n<path fill=\"none\" stroke=\"#000000\" d=\"M54.1688,-18C62.3543,-18 71.5827,-18 80.6596,-18\"/>\n<polygon fill=\"#000000\" stroke=\"#000000\" points=\"80.7795,-21.5001 90.7795,-18 80.7795,-14.5001 80.7795,-21.5001\"/>\n</g>\n<!-- loss -->\n<g id=\"node3\" class=\"node\">\n<title>loss</title>\n<ellipse fill=\"none\" stroke=\"#000000\" cx=\"227.7935\" cy=\"-52\" rx=\"27\" ry=\"18\"/>\n<text text-anchor=\"middle\" x=\"227.7935\" y=\"-48.3\" font-family=\"Times,serif\" font-size=\"14.00\" fill=\"#000000\">loss</text>\n</g>\n<!-- predict&#45;&gt;loss -->\n<g id=\"edge2\" class=\"edge\">\n<title>predict&#45;&gt;loss</title>\n<path fill=\"none\" stroke=\"#000000\" d=\"M157.5191,-28.2011C168.9806,-32.0826 182.1139,-36.5303 193.9014,-40.5222\"/>\n<polygon fill=\"#000000\" stroke=\"#000000\" points=\"192.8259,-43.8532 203.4202,-43.7458 195.0713,-37.2231 192.8259,-43.8532\"/>\n</g>\n<!-- gradient -->\n<g id=\"node4\" class=\"node\">\n<title>gradient</title>\n<ellipse fill=\"none\" stroke=\"#000000\" cx=\"365.7399\" cy=\"-52\" rx=\"40.8928\" ry=\"18\"/>\n<text text-anchor=\"middle\" x=\"365.7399\" y=\"-48.3\" font-family=\"Times,serif\" font-size=\"14.00\" fill=\"#000000\">gradient</text>\n</g>\n<!-- loss&#45;&gt;gradient -->\n<g id=\"edge3\" class=\"edge\">\n<title>loss&#45;&gt;gradient</title>\n<path fill=\"none\" stroke=\"#000000\" d=\"M255.0473,-52C272.0415,-52 294.4481,-52 314.6545,-52\"/>\n<polygon fill=\"#000000\" stroke=\"#000000\" points=\"314.671,-55.5001 324.671,-52 314.671,-48.5001 314.671,-55.5001\"/>\n</g>\n<!-- step -->\n<g id=\"node5\" class=\"node\">\n<title>step</title>\n<ellipse fill=\"none\" stroke=\"#000000\" cx=\"470.6863\" cy=\"-18\" rx=\"27\" ry=\"18\"/>\n<text text-anchor=\"middle\" x=\"470.6863\" y=\"-14.3\" font-family=\"Times,serif\" font-size=\"14.00\" fill=\"#000000\">step</text>\n</g>\n<!-- gradient&#45;&gt;step -->\n<g id=\"edge4\" class=\"edge\">\n<title>gradient&#45;&gt;step</title>\n<path fill=\"none\" stroke=\"#000000\" d=\"M398.9456,-41.2422C410.9558,-37.3512 424.5297,-32.9536 436.6132,-29.0388\"/>\n<polygon fill=\"#000000\" stroke=\"#000000\" points=\"437.9112,-32.2975 446.3457,-25.8857 435.7537,-25.6382 437.9112,-32.2975\"/>\n</g>\n<!-- step&#45;&gt;predict -->\n<g id=\"edge6\" class=\"edge\">\n<title>step&#45;&gt;predict</title>\n<path fill=\"none\" stroke=\"#000000\" d=\"M443.4266,-18C384.9297,-18 246.7861,-18 174.0495,-18\"/>\n<polygon fill=\"#000000\" stroke=\"#000000\" points=\"173.8098,-14.5001 163.8098,-18 173.8097,-21.5001 173.8098,-14.5001\"/>\n<text text-anchor=\"middle\" x=\"289.7935\" y=\"-21.8\" font-family=\"Times,serif\" font-size=\"14.00\" fill=\"#000000\">repeat</text>\n</g>\n<!-- stop -->\n<g id=\"node6\" class=\"node\">\n<title>stop</title>\n<ellipse fill=\"none\" stroke=\"#000000\" cx=\"561.6863\" cy=\"-18\" rx=\"27\" ry=\"18\"/>\n<text text-anchor=\"middle\" x=\"561.6863\" y=\"-14.3\" font-family=\"Times,serif\" font-size=\"14.00\" fill=\"#000000\">stop</text>\n</g>\n<!-- step&#45;&gt;stop -->\n<g id=\"edge5\" class=\"edge\">\n<title>step&#45;&gt;stop</title>\n<path fill=\"none\" stroke=\"#000000\" d=\"M497.9893,-18C506.2676,-18 515.508,-18 524.3268,-18\"/>\n<polygon fill=\"#000000\" stroke=\"#000000\" points=\"524.4026,-21.5001 534.4025,-18 524.4025,-14.5001 524.4026,-21.5001\"/>\n</g>\n</g>\n</svg>\n"
          },
          "metadata": {
            "tags": []
          },
          "execution_count": 125
        }
      ]
    },
    {
      "cell_type": "markdown",
      "metadata": {
        "id": "wLHl2sVOD7vV",
        "colab_type": "text"
      },
      "source": [
        "#Simple Logistic Regression"
      ]
    },
    {
      "cell_type": "markdown",
      "metadata": {
        "id": "Sdr1KTsJYeoN",
        "colab_type": "text"
      },
      "source": [
        "So now we can start doing our implementation. First, we will need to import the libraries."
      ]
    },
    {
      "cell_type": "code",
      "metadata": {
        "id": "6sPvonoznfrq",
        "colab_type": "code",
        "colab": {}
      },
      "source": [
        "\n",
        "from fastai2.vision.all import *\n",
        "matplotlib.rc('image', cmap='Greys')"
      ],
      "execution_count": 126,
      "outputs": []
    },
    {
      "cell_type": "markdown",
      "metadata": {
        "id": "xwzoM3YIAMh7",
        "colab_type": "text"
      },
      "source": [
        "Then you need to go to the Kaggle website,  download the Kannada-MNIST dataset and unzip it. In the Kannada-MNIST case, we have four files zipped in it.\n",
        "For this implementation, I am going to be using only 'train.csv'."
      ]
    },
    {
      "cell_type": "code",
      "metadata": {
        "id": "P0ajmfBulpnl",
        "colab_type": "code",
        "colab": {
          "base_uri": "https://localhost:8080/",
          "height": 103
        },
        "outputId": "9bde0dca-3cfb-4a40-84b5-0b2a5e025ea3"
      },
      "source": [
        "!chmod 777 Kannada-MNIST.zip\n",
        "!unzip Kannada-MNIST.zip"
      ],
      "execution_count": 5,
      "outputs": [
        {
          "output_type": "stream",
          "text": [
            "Archive:  Kannada-MNIST.zip\n",
            "  inflating: Dig-MNIST.csv           \n",
            "  inflating: sample_submission.csv   \n",
            "  inflating: test.csv                \n",
            "  inflating: train.csv               \n"
          ],
          "name": "stdout"
        }
      ]
    },
    {
      "cell_type": "markdown",
      "metadata": {
        "id": "_xfiMaduAXPT",
        "colab_type": "text"
      },
      "source": [
        "The easy way of how you can read the 'train.csv' file is to use pandas function 'read_csv()'. It will read it into pandas DataFrame.\n",
        "By calling 'head()' on it, we can display the first five rows of its content.\n",
        "The first column of it is 'label'. It defines what category the row belongs to. \n",
        "Each of the other columns represents the pixels from 0 to 784, which is a flattened 28,28 shaped single-channel image."
      ]
    },
    {
      "cell_type": "code",
      "metadata": {
        "id": "YxTvhVbxg3R7",
        "colab_type": "code",
        "colab": {
          "base_uri": "https://localhost:8080/",
          "height": 255
        },
        "outputId": "74cdbe2b-24c7-4536-b587-88b17f62d482"
      },
      "source": [
        "df = pd.read_csv(\"train.csv\") \n",
        "df.head()"
      ],
      "execution_count": 131,
      "outputs": [
        {
          "output_type": "execute_result",
          "data": {
            "text/html": [
              "<div>\n",
              "<style scoped>\n",
              "    .dataframe tbody tr th:only-of-type {\n",
              "        vertical-align: middle;\n",
              "    }\n",
              "\n",
              "    .dataframe tbody tr th {\n",
              "        vertical-align: top;\n",
              "    }\n",
              "\n",
              "    .dataframe thead th {\n",
              "        text-align: right;\n",
              "    }\n",
              "</style>\n",
              "<table border=\"1\" class=\"dataframe\">\n",
              "  <thead>\n",
              "    <tr style=\"text-align: right;\">\n",
              "      <th></th>\n",
              "      <th>label</th>\n",
              "      <th>pixel0</th>\n",
              "      <th>pixel1</th>\n",
              "      <th>pixel2</th>\n",
              "      <th>pixel3</th>\n",
              "      <th>pixel4</th>\n",
              "      <th>pixel5</th>\n",
              "      <th>pixel6</th>\n",
              "      <th>pixel7</th>\n",
              "      <th>pixel8</th>\n",
              "      <th>pixel9</th>\n",
              "      <th>pixel10</th>\n",
              "      <th>pixel11</th>\n",
              "      <th>pixel12</th>\n",
              "      <th>pixel13</th>\n",
              "      <th>pixel14</th>\n",
              "      <th>pixel15</th>\n",
              "      <th>pixel16</th>\n",
              "      <th>pixel17</th>\n",
              "      <th>pixel18</th>\n",
              "      <th>pixel19</th>\n",
              "      <th>pixel20</th>\n",
              "      <th>pixel21</th>\n",
              "      <th>pixel22</th>\n",
              "      <th>pixel23</th>\n",
              "      <th>pixel24</th>\n",
              "      <th>pixel25</th>\n",
              "      <th>pixel26</th>\n",
              "      <th>pixel27</th>\n",
              "      <th>pixel28</th>\n",
              "      <th>pixel29</th>\n",
              "      <th>pixel30</th>\n",
              "      <th>pixel31</th>\n",
              "      <th>pixel32</th>\n",
              "      <th>pixel33</th>\n",
              "      <th>pixel34</th>\n",
              "      <th>pixel35</th>\n",
              "      <th>pixel36</th>\n",
              "      <th>pixel37</th>\n",
              "      <th>pixel38</th>\n",
              "      <th>...</th>\n",
              "      <th>pixel744</th>\n",
              "      <th>pixel745</th>\n",
              "      <th>pixel746</th>\n",
              "      <th>pixel747</th>\n",
              "      <th>pixel748</th>\n",
              "      <th>pixel749</th>\n",
              "      <th>pixel750</th>\n",
              "      <th>pixel751</th>\n",
              "      <th>pixel752</th>\n",
              "      <th>pixel753</th>\n",
              "      <th>pixel754</th>\n",
              "      <th>pixel755</th>\n",
              "      <th>pixel756</th>\n",
              "      <th>pixel757</th>\n",
              "      <th>pixel758</th>\n",
              "      <th>pixel759</th>\n",
              "      <th>pixel760</th>\n",
              "      <th>pixel761</th>\n",
              "      <th>pixel762</th>\n",
              "      <th>pixel763</th>\n",
              "      <th>pixel764</th>\n",
              "      <th>pixel765</th>\n",
              "      <th>pixel766</th>\n",
              "      <th>pixel767</th>\n",
              "      <th>pixel768</th>\n",
              "      <th>pixel769</th>\n",
              "      <th>pixel770</th>\n",
              "      <th>pixel771</th>\n",
              "      <th>pixel772</th>\n",
              "      <th>pixel773</th>\n",
              "      <th>pixel774</th>\n",
              "      <th>pixel775</th>\n",
              "      <th>pixel776</th>\n",
              "      <th>pixel777</th>\n",
              "      <th>pixel778</th>\n",
              "      <th>pixel779</th>\n",
              "      <th>pixel780</th>\n",
              "      <th>pixel781</th>\n",
              "      <th>pixel782</th>\n",
              "      <th>pixel783</th>\n",
              "    </tr>\n",
              "  </thead>\n",
              "  <tbody>\n",
              "    <tr>\n",
              "      <th>0</th>\n",
              "      <td>0</td>\n",
              "      <td>0</td>\n",
              "      <td>0</td>\n",
              "      <td>0</td>\n",
              "      <td>0</td>\n",
              "      <td>0</td>\n",
              "      <td>0</td>\n",
              "      <td>0</td>\n",
              "      <td>0</td>\n",
              "      <td>0</td>\n",
              "      <td>0</td>\n",
              "      <td>0</td>\n",
              "      <td>0</td>\n",
              "      <td>0</td>\n",
              "      <td>0</td>\n",
              "      <td>0</td>\n",
              "      <td>0</td>\n",
              "      <td>0</td>\n",
              "      <td>0</td>\n",
              "      <td>0</td>\n",
              "      <td>0</td>\n",
              "      <td>0</td>\n",
              "      <td>0</td>\n",
              "      <td>0</td>\n",
              "      <td>0</td>\n",
              "      <td>0</td>\n",
              "      <td>0</td>\n",
              "      <td>0</td>\n",
              "      <td>0</td>\n",
              "      <td>0</td>\n",
              "      <td>0</td>\n",
              "      <td>0</td>\n",
              "      <td>0</td>\n",
              "      <td>0</td>\n",
              "      <td>0</td>\n",
              "      <td>0</td>\n",
              "      <td>0</td>\n",
              "      <td>0</td>\n",
              "      <td>0</td>\n",
              "      <td>0</td>\n",
              "      <td>...</td>\n",
              "      <td>0</td>\n",
              "      <td>0</td>\n",
              "      <td>0</td>\n",
              "      <td>0</td>\n",
              "      <td>0</td>\n",
              "      <td>0</td>\n",
              "      <td>0</td>\n",
              "      <td>0</td>\n",
              "      <td>0</td>\n",
              "      <td>0</td>\n",
              "      <td>0</td>\n",
              "      <td>0</td>\n",
              "      <td>0</td>\n",
              "      <td>0</td>\n",
              "      <td>0</td>\n",
              "      <td>0</td>\n",
              "      <td>0</td>\n",
              "      <td>0</td>\n",
              "      <td>0</td>\n",
              "      <td>0</td>\n",
              "      <td>0</td>\n",
              "      <td>0</td>\n",
              "      <td>0</td>\n",
              "      <td>0</td>\n",
              "      <td>0</td>\n",
              "      <td>0</td>\n",
              "      <td>0</td>\n",
              "      <td>0</td>\n",
              "      <td>0</td>\n",
              "      <td>0</td>\n",
              "      <td>0</td>\n",
              "      <td>0</td>\n",
              "      <td>0</td>\n",
              "      <td>0</td>\n",
              "      <td>0</td>\n",
              "      <td>0</td>\n",
              "      <td>0</td>\n",
              "      <td>0</td>\n",
              "      <td>0</td>\n",
              "      <td>0</td>\n",
              "    </tr>\n",
              "    <tr>\n",
              "      <th>1</th>\n",
              "      <td>1</td>\n",
              "      <td>0</td>\n",
              "      <td>0</td>\n",
              "      <td>0</td>\n",
              "      <td>0</td>\n",
              "      <td>0</td>\n",
              "      <td>0</td>\n",
              "      <td>0</td>\n",
              "      <td>0</td>\n",
              "      <td>0</td>\n",
              "      <td>0</td>\n",
              "      <td>0</td>\n",
              "      <td>0</td>\n",
              "      <td>0</td>\n",
              "      <td>0</td>\n",
              "      <td>0</td>\n",
              "      <td>0</td>\n",
              "      <td>0</td>\n",
              "      <td>0</td>\n",
              "      <td>0</td>\n",
              "      <td>0</td>\n",
              "      <td>0</td>\n",
              "      <td>0</td>\n",
              "      <td>0</td>\n",
              "      <td>0</td>\n",
              "      <td>0</td>\n",
              "      <td>0</td>\n",
              "      <td>0</td>\n",
              "      <td>0</td>\n",
              "      <td>0</td>\n",
              "      <td>0</td>\n",
              "      <td>0</td>\n",
              "      <td>0</td>\n",
              "      <td>0</td>\n",
              "      <td>0</td>\n",
              "      <td>0</td>\n",
              "      <td>0</td>\n",
              "      <td>0</td>\n",
              "      <td>0</td>\n",
              "      <td>0</td>\n",
              "      <td>...</td>\n",
              "      <td>0</td>\n",
              "      <td>0</td>\n",
              "      <td>0</td>\n",
              "      <td>0</td>\n",
              "      <td>0</td>\n",
              "      <td>0</td>\n",
              "      <td>0</td>\n",
              "      <td>0</td>\n",
              "      <td>0</td>\n",
              "      <td>0</td>\n",
              "      <td>0</td>\n",
              "      <td>0</td>\n",
              "      <td>0</td>\n",
              "      <td>0</td>\n",
              "      <td>0</td>\n",
              "      <td>0</td>\n",
              "      <td>0</td>\n",
              "      <td>0</td>\n",
              "      <td>0</td>\n",
              "      <td>0</td>\n",
              "      <td>0</td>\n",
              "      <td>0</td>\n",
              "      <td>0</td>\n",
              "      <td>0</td>\n",
              "      <td>0</td>\n",
              "      <td>0</td>\n",
              "      <td>0</td>\n",
              "      <td>0</td>\n",
              "      <td>0</td>\n",
              "      <td>0</td>\n",
              "      <td>0</td>\n",
              "      <td>0</td>\n",
              "      <td>0</td>\n",
              "      <td>0</td>\n",
              "      <td>0</td>\n",
              "      <td>0</td>\n",
              "      <td>0</td>\n",
              "      <td>0</td>\n",
              "      <td>0</td>\n",
              "      <td>0</td>\n",
              "    </tr>\n",
              "    <tr>\n",
              "      <th>2</th>\n",
              "      <td>2</td>\n",
              "      <td>0</td>\n",
              "      <td>0</td>\n",
              "      <td>0</td>\n",
              "      <td>0</td>\n",
              "      <td>0</td>\n",
              "      <td>0</td>\n",
              "      <td>0</td>\n",
              "      <td>0</td>\n",
              "      <td>0</td>\n",
              "      <td>0</td>\n",
              "      <td>0</td>\n",
              "      <td>0</td>\n",
              "      <td>0</td>\n",
              "      <td>0</td>\n",
              "      <td>0</td>\n",
              "      <td>0</td>\n",
              "      <td>0</td>\n",
              "      <td>0</td>\n",
              "      <td>0</td>\n",
              "      <td>0</td>\n",
              "      <td>0</td>\n",
              "      <td>0</td>\n",
              "      <td>0</td>\n",
              "      <td>0</td>\n",
              "      <td>0</td>\n",
              "      <td>0</td>\n",
              "      <td>0</td>\n",
              "      <td>0</td>\n",
              "      <td>0</td>\n",
              "      <td>0</td>\n",
              "      <td>0</td>\n",
              "      <td>0</td>\n",
              "      <td>0</td>\n",
              "      <td>0</td>\n",
              "      <td>0</td>\n",
              "      <td>0</td>\n",
              "      <td>0</td>\n",
              "      <td>0</td>\n",
              "      <td>0</td>\n",
              "      <td>...</td>\n",
              "      <td>0</td>\n",
              "      <td>0</td>\n",
              "      <td>0</td>\n",
              "      <td>0</td>\n",
              "      <td>0</td>\n",
              "      <td>0</td>\n",
              "      <td>0</td>\n",
              "      <td>0</td>\n",
              "      <td>0</td>\n",
              "      <td>0</td>\n",
              "      <td>0</td>\n",
              "      <td>0</td>\n",
              "      <td>0</td>\n",
              "      <td>0</td>\n",
              "      <td>0</td>\n",
              "      <td>0</td>\n",
              "      <td>0</td>\n",
              "      <td>0</td>\n",
              "      <td>0</td>\n",
              "      <td>0</td>\n",
              "      <td>0</td>\n",
              "      <td>0</td>\n",
              "      <td>0</td>\n",
              "      <td>0</td>\n",
              "      <td>0</td>\n",
              "      <td>0</td>\n",
              "      <td>0</td>\n",
              "      <td>0</td>\n",
              "      <td>0</td>\n",
              "      <td>0</td>\n",
              "      <td>0</td>\n",
              "      <td>0</td>\n",
              "      <td>0</td>\n",
              "      <td>0</td>\n",
              "      <td>0</td>\n",
              "      <td>0</td>\n",
              "      <td>0</td>\n",
              "      <td>0</td>\n",
              "      <td>0</td>\n",
              "      <td>0</td>\n",
              "    </tr>\n",
              "    <tr>\n",
              "      <th>3</th>\n",
              "      <td>3</td>\n",
              "      <td>0</td>\n",
              "      <td>0</td>\n",
              "      <td>0</td>\n",
              "      <td>0</td>\n",
              "      <td>0</td>\n",
              "      <td>0</td>\n",
              "      <td>0</td>\n",
              "      <td>0</td>\n",
              "      <td>0</td>\n",
              "      <td>0</td>\n",
              "      <td>0</td>\n",
              "      <td>0</td>\n",
              "      <td>0</td>\n",
              "      <td>0</td>\n",
              "      <td>0</td>\n",
              "      <td>0</td>\n",
              "      <td>0</td>\n",
              "      <td>0</td>\n",
              "      <td>0</td>\n",
              "      <td>0</td>\n",
              "      <td>0</td>\n",
              "      <td>0</td>\n",
              "      <td>0</td>\n",
              "      <td>0</td>\n",
              "      <td>0</td>\n",
              "      <td>0</td>\n",
              "      <td>0</td>\n",
              "      <td>0</td>\n",
              "      <td>0</td>\n",
              "      <td>0</td>\n",
              "      <td>0</td>\n",
              "      <td>0</td>\n",
              "      <td>0</td>\n",
              "      <td>0</td>\n",
              "      <td>0</td>\n",
              "      <td>0</td>\n",
              "      <td>0</td>\n",
              "      <td>0</td>\n",
              "      <td>0</td>\n",
              "      <td>...</td>\n",
              "      <td>0</td>\n",
              "      <td>0</td>\n",
              "      <td>0</td>\n",
              "      <td>0</td>\n",
              "      <td>0</td>\n",
              "      <td>0</td>\n",
              "      <td>0</td>\n",
              "      <td>0</td>\n",
              "      <td>0</td>\n",
              "      <td>0</td>\n",
              "      <td>0</td>\n",
              "      <td>0</td>\n",
              "      <td>0</td>\n",
              "      <td>0</td>\n",
              "      <td>0</td>\n",
              "      <td>0</td>\n",
              "      <td>0</td>\n",
              "      <td>0</td>\n",
              "      <td>0</td>\n",
              "      <td>0</td>\n",
              "      <td>0</td>\n",
              "      <td>0</td>\n",
              "      <td>0</td>\n",
              "      <td>0</td>\n",
              "      <td>0</td>\n",
              "      <td>0</td>\n",
              "      <td>0</td>\n",
              "      <td>0</td>\n",
              "      <td>0</td>\n",
              "      <td>0</td>\n",
              "      <td>0</td>\n",
              "      <td>0</td>\n",
              "      <td>0</td>\n",
              "      <td>0</td>\n",
              "      <td>0</td>\n",
              "      <td>0</td>\n",
              "      <td>0</td>\n",
              "      <td>0</td>\n",
              "      <td>0</td>\n",
              "      <td>0</td>\n",
              "    </tr>\n",
              "    <tr>\n",
              "      <th>4</th>\n",
              "      <td>4</td>\n",
              "      <td>0</td>\n",
              "      <td>0</td>\n",
              "      <td>0</td>\n",
              "      <td>0</td>\n",
              "      <td>0</td>\n",
              "      <td>0</td>\n",
              "      <td>0</td>\n",
              "      <td>0</td>\n",
              "      <td>0</td>\n",
              "      <td>0</td>\n",
              "      <td>0</td>\n",
              "      <td>0</td>\n",
              "      <td>0</td>\n",
              "      <td>0</td>\n",
              "      <td>0</td>\n",
              "      <td>0</td>\n",
              "      <td>0</td>\n",
              "      <td>0</td>\n",
              "      <td>0</td>\n",
              "      <td>0</td>\n",
              "      <td>0</td>\n",
              "      <td>0</td>\n",
              "      <td>0</td>\n",
              "      <td>0</td>\n",
              "      <td>0</td>\n",
              "      <td>0</td>\n",
              "      <td>0</td>\n",
              "      <td>0</td>\n",
              "      <td>0</td>\n",
              "      <td>0</td>\n",
              "      <td>0</td>\n",
              "      <td>0</td>\n",
              "      <td>0</td>\n",
              "      <td>0</td>\n",
              "      <td>0</td>\n",
              "      <td>0</td>\n",
              "      <td>0</td>\n",
              "      <td>0</td>\n",
              "      <td>0</td>\n",
              "      <td>...</td>\n",
              "      <td>0</td>\n",
              "      <td>0</td>\n",
              "      <td>0</td>\n",
              "      <td>0</td>\n",
              "      <td>0</td>\n",
              "      <td>0</td>\n",
              "      <td>0</td>\n",
              "      <td>0</td>\n",
              "      <td>0</td>\n",
              "      <td>0</td>\n",
              "      <td>0</td>\n",
              "      <td>0</td>\n",
              "      <td>0</td>\n",
              "      <td>0</td>\n",
              "      <td>0</td>\n",
              "      <td>0</td>\n",
              "      <td>0</td>\n",
              "      <td>0</td>\n",
              "      <td>0</td>\n",
              "      <td>0</td>\n",
              "      <td>0</td>\n",
              "      <td>0</td>\n",
              "      <td>0</td>\n",
              "      <td>0</td>\n",
              "      <td>0</td>\n",
              "      <td>0</td>\n",
              "      <td>0</td>\n",
              "      <td>0</td>\n",
              "      <td>0</td>\n",
              "      <td>0</td>\n",
              "      <td>0</td>\n",
              "      <td>0</td>\n",
              "      <td>0</td>\n",
              "      <td>0</td>\n",
              "      <td>0</td>\n",
              "      <td>0</td>\n",
              "      <td>0</td>\n",
              "      <td>0</td>\n",
              "      <td>0</td>\n",
              "      <td>0</td>\n",
              "    </tr>\n",
              "  </tbody>\n",
              "</table>\n",
              "<p>5 rows × 785 columns</p>\n",
              "</div>"
            ],
            "text/plain": [
              "   label  pixel0  pixel1  pixel2  ...  pixel780  pixel781  pixel782  pixel783\n",
              "0      0       0       0       0  ...         0         0         0         0\n",
              "1      1       0       0       0  ...         0         0         0         0\n",
              "2      2       0       0       0  ...         0         0         0         0\n",
              "3      3       0       0       0  ...         0         0         0         0\n",
              "4      4       0       0       0  ...         0         0         0         0\n",
              "\n",
              "[5 rows x 785 columns]"
            ]
          },
          "metadata": {
            "tags": []
          },
          "execution_count": 131
        }
      ]
    },
    {
      "cell_type": "markdown",
      "metadata": {
        "id": "2DJqNuuUhV3u",
        "colab_type": "text"
      },
      "source": [
        "Then we need to specify a number for random seed. Doing this will let us get the same generated parameters each time we run this notebook."
      ]
    },
    {
      "cell_type": "code",
      "metadata": {
        "id": "o6dV5ElU0CDo",
        "colab_type": "code",
        "colab": {
          "base_uri": "https://localhost:8080/",
          "height": 34
        },
        "outputId": "26e23495-4a59-43f1-9208-0bbc46b3bb25"
      },
      "source": [
        "torch.manual_seed(3)\n"
      ],
      "execution_count": 179,
      "outputs": [
        {
          "output_type": "execute_result",
          "data": {
            "text/plain": [
              "<torch._C.Generator at 0x7ff9283f8a30>"
            ]
          },
          "metadata": {
            "tags": []
          },
          "execution_count": 179
        }
      ]
    },
    {
      "cell_type": "markdown",
      "metadata": {
        "id": "dASZD6dLh9D0",
        "colab_type": "text"
      },
      "source": [
        "Here we are converting our data into tuple format (x,y). This is required for PyTorch dataset.\n",
        "First, we separate the label from all other data into a separate tensor. Then we convert our other data(pixels) into tensor and normalize it by dividing it from 255. this converts our data to be in values between 0 and 1. Finally, we turn it into the tuple."
      ]
    },
    {
      "cell_type": "code",
      "metadata": {
        "id": "AYBD89a0L09V",
        "colab_type": "code",
        "colab": {}
      },
      "source": [
        "df_y = tensor(df['label'])\n",
        "df_x = tensor(df.drop('label', axis=1).values).float() / 255.\n",
        "df = list(zip(df_x,df_y))"
      ],
      "execution_count": 133,
      "outputs": []
    },
    {
      "cell_type": "code",
      "metadata": {
        "id": "BQnPOERRgvFF",
        "colab_type": "code",
        "colab": {
          "base_uri": "https://localhost:8080/",
          "height": 34
        },
        "outputId": "7059559e-b109-42d4-ee5f-2f1308763ca6"
      },
      "source": [
        "df_y.shape"
      ],
      "execution_count": 134,
      "outputs": [
        {
          "output_type": "execute_result",
          "data": {
            "text/plain": [
              "torch.Size([60000])"
            ]
          },
          "metadata": {
            "tags": []
          },
          "execution_count": 134
        }
      ]
    },
    {
      "cell_type": "markdown",
      "metadata": {
        "id": "yKHtxDNSd-r7",
        "colab_type": "text"
      },
      "source": [
        "Then we split our data into training and validation sets using 'random_split(data, [split_one, split_two)' function."
      ]
    },
    {
      "cell_type": "code",
      "metadata": {
        "id": "Fwhw8WDgnoX1",
        "colab_type": "code",
        "colab": {
          "base_uri": "https://localhost:8080/",
          "height": 34
        },
        "outputId": "38452e2e-e48f-4566-ab13-5792caf5c6e6"
      },
      "source": [
        "val_size = int(0.2*len(df))\n",
        "train_size = len(df) - val_size\n",
        "train_ds, val_ds = torch.utils.data.random_split(df, [train_size, val_size])\n",
        "len(train_ds), len(val_ds)"
      ],
      "execution_count": 135,
      "outputs": [
        {
          "output_type": "execute_result",
          "data": {
            "text/plain": [
              "(48000, 12000)"
            ]
          },
          "metadata": {
            "tags": []
          },
          "execution_count": 135
        }
      ]
    },
    {
      "cell_type": "markdown",
      "metadata": {
        "id": "kyPvpzIYfOWZ",
        "colab_type": "text"
      },
      "source": [
        "Now we can start our training process. First, we are going to make a parameter initialization function. It is going to take the wanted matrix shape and deviation range as an input and will return us the initialized matrix. We also call the 'requires_grad_()' function. This tells PyTorch that the created tensor will require gradients."
      ]
    },
    {
      "cell_type": "code",
      "metadata": {
        "id": "DbY_ZuMc-fxg",
        "colab_type": "code",
        "colab": {}
      },
      "source": [
        "def init_params(size, std=1.0): return (torch.randn(size)*std).requires_grad_()"
      ],
      "execution_count": 136,
      "outputs": []
    },
    {
      "cell_type": "markdown",
      "metadata": {
        "id": "Vjxpjr-gfqhJ",
        "colab_type": "text"
      },
      "source": [
        "We are going to have two types of parameters. First is going to be the weights. In this case, you can imagine weights as being values associated with the input. For every pixel in our image(784), we are going to have ten weights, which are going to indicate that pixels importance to each different prediction. All weights will be inside one big matrix representing our one linear layer weights.\n",
        "The second parameter is going to be bias, 1 per prediction, making it 10 in total."
      ]
    },
    {
      "cell_type": "code",
      "metadata": {
        "id": "plN6voH7-f32",
        "colab_type": "code",
        "colab": {}
      },
      "source": [
        "weights = init_params((28*28,10))\n",
        "bias = init_params(10)"
      ],
      "execution_count": 137,
      "outputs": []
    },
    {
      "cell_type": "code",
      "metadata": {
        "id": "J8x2FLP_jdaq",
        "colab_type": "code",
        "colab": {
          "base_uri": "https://localhost:8080/",
          "height": 34
        },
        "outputId": "1f46c821-c7ff-42c1-c8a3-67d42a8de851"
      },
      "source": [
        "df_x[0].shape, weights.shape, bias.shape"
      ],
      "execution_count": 138,
      "outputs": [
        {
          "output_type": "execute_result",
          "data": {
            "text/plain": [
              "(torch.Size([784]), torch.Size([784, 10]), torch.Size([10]))"
            ]
          },
          "metadata": {
            "tags": []
          },
          "execution_count": 138
        }
      ]
    },
    {
      "cell_type": "markdown",
      "metadata": {
        "id": "KK3R-7jVjLmK",
        "colab_type": "text"
      },
      "source": [
        "\n",
        "Let us try making a prediction for one image example. For each neuron, we need to multiply each pixel with its weight and sum all of the got values. Then we can add bias.\n",
        "This gives us one problem. The shape of our pixel tensor is [784], while the shape of our weights is [784, 10]. By transposing our weights matrix, we can get the shape [10,784]. This lets us do element-wise multiplication between two matrices. Python will consider the pixel matrix as being [1,784], and it will broadcast it across all of our weights matrix, giving us a new matrix of shape [10,784]."
      ]
    },
    {
      "cell_type": "code",
      "metadata": {
        "id": "JfOTxDRrzWdi",
        "colab_type": "code",
        "colab": {
          "base_uri": "https://localhost:8080/",
          "height": 51
        },
        "outputId": "eca01d50-15cd-495d-8b01-25ef16f8a984"
      },
      "source": [
        "weights[0]"
      ],
      "execution_count": 140,
      "outputs": [
        {
          "output_type": "execute_result",
          "data": {
            "text/plain": [
              "tensor([-0.1771, -0.6914, -2.0339, -0.0146, -0.0184,  0.0774,  0.1353,  0.0976,\n",
              "         1.2196,  0.5419], grad_fn=<SelectBackward>)"
            ]
          },
          "metadata": {
            "tags": []
          },
          "execution_count": 140
        }
      ]
    },
    {
      "cell_type": "code",
      "metadata": {
        "id": "6soiMxYP0pXX",
        "colab_type": "code",
        "colab": {
          "base_uri": "https://localhost:8080/",
          "height": 34
        },
        "outputId": "0b9886b8-f1bf-47ec-f9e0-84225bcfe7bd"
      },
      "source": [
        "(df_x[0]*weights.T).shape"
      ],
      "execution_count": 141,
      "outputs": [
        {
          "output_type": "execute_result",
          "data": {
            "text/plain": [
              "torch.Size([10, 784])"
            ]
          },
          "metadata": {
            "tags": []
          },
          "execution_count": 141
        }
      ]
    },
    {
      "cell_type": "markdown",
      "metadata": {
        "id": "l7y31xnu05tN",
        "colab_type": "text"
      },
      "source": [
        "Then we can sum all values for each prediction and apply bias."
      ]
    },
    {
      "cell_type": "code",
      "metadata": {
        "id": "zOZr4v3t-f6g",
        "colab_type": "code",
        "colab": {
          "base_uri": "https://localhost:8080/",
          "height": 51
        },
        "outputId": "b1df2002-4769-4611-d776-5b6c346be449"
      },
      "source": [
        "(df_x[0]*weights.T).sum() + bias"
      ],
      "execution_count": 142,
      "outputs": [
        {
          "output_type": "execute_result",
          "data": {
            "text/plain": [
              "tensor([7.9136, 6.4585, 8.1807, 6.9579, 6.9197, 7.2522, 7.6322, 5.7487, 8.0225,\n",
              "        6.9266], grad_fn=<AddBackward0>)"
            ]
          },
          "metadata": {
            "tags": []
          },
          "execution_count": 142
        }
      ]
    },
    {
      "cell_type": "markdown",
      "metadata": {
        "id": "8jnOVDvxo_cK",
        "colab_type": "text"
      },
      "source": [
        "Now let's try to make predictions for multiple examples. We could do it as before one image at the time, but python has a nice feature that lets us do matrix multiplication. You need to do everything just like before, but instead of '*' for multiplication, you have to use '@', and we no longer need to Transpose our weights tensor."
      ]
    },
    {
      "cell_type": "code",
      "metadata": {
        "id": "IsFsoY60-f8_",
        "colab_type": "code",
        "colab": {
          "base_uri": "https://localhost:8080/",
          "height": 190
        },
        "outputId": "648f75be-3d54-4714-9af4-f67dc5be55be"
      },
      "source": [
        "def linear(xb): return xb@weights + bias\n",
        "preds = linear(df_x[:40])\n",
        "#five predictions\n",
        "preds[:5]"
      ],
      "execution_count": 143,
      "outputs": [
        {
          "output_type": "execute_result",
          "data": {
            "text/plain": [
              "tensor([[ 1.8791,  2.8753, -1.8936,  8.4709,  0.4792, -8.4212, 13.1066,  4.8924,\n",
              "         -7.4439, -3.3860],\n",
              "        [ 1.8609, -7.1370,  5.0990,  2.7264, -2.2692, -3.1977,  1.4100,  0.6469,\n",
              "         -7.1241, -4.8157],\n",
              "        [ 5.4444,  5.1601,  3.0672, -6.4859, 11.8515, 14.0330,  4.9745,  0.2390,\n",
              "          1.2314, -1.5407],\n",
              "        [-1.0287,  3.9156,  6.9652,  4.6794, -1.9739,  4.1155,  2.4142, -1.3916,\n",
              "         -4.6344, -1.1138],\n",
              "        [ 3.6376,  6.2520,  4.0436,  0.5839, -1.3109, -1.8403,  2.0207,  4.5624,\n",
              "          5.1338,  4.0897]], grad_fn=<SliceBackward>)"
            ]
          },
          "metadata": {
            "tags": []
          },
          "execution_count": 143
        }
      ]
    },
    {
      "cell_type": "markdown",
      "metadata": {
        "id": "nMk_KqC1WWBL",
        "colab_type": "text"
      },
      "source": [
        "Now, when we have our predictions, we can try calculating the accuracy. We are going to take prediction tensor and will find the highest value for each image prediction."
      ]
    },
    {
      "cell_type": "code",
      "metadata": {
        "id": "VM16bg_hXQB8",
        "colab_type": "code",
        "colab": {
          "base_uri": "https://localhost:8080/",
          "height": 51
        },
        "outputId": "1c3d79a2-f628-4ab6-e062-d32d001295c4"
      },
      "source": [
        "_, example = torch.max(preds, dim=1)\n",
        "example"
      ],
      "execution_count": 144,
      "outputs": [
        {
          "output_type": "execute_result",
          "data": {
            "text/plain": [
              "tensor([6, 2, 5, 2, 1, 3, 2, 0, 3, 6, 6, 6, 3, 1, 6, 3, 2, 6, 6, 3, 6, 6, 4, 6,\n",
              "        5, 3, 2, 7, 3, 7, 6, 6, 6, 6, 6, 6, 6, 0, 6, 7])"
            ]
          },
          "metadata": {
            "tags": []
          },
          "execution_count": 144
        }
      ]
    },
    {
      "cell_type": "markdown",
      "metadata": {
        "id": "Kes5t7SYX_nR",
        "colab_type": "text"
      },
      "source": [
        "Then we can take the predicted values and compare it with labels using '==' operation. This will give us a boolean matrix with 'True' in place of correct predictions and 'False' otherwise. "
      ]
    },
    {
      "cell_type": "code",
      "metadata": {
        "id": "XOX4hEoAYVjb",
        "colab_type": "code",
        "colab": {
          "base_uri": "https://localhost:8080/",
          "height": 86
        },
        "outputId": "36036ca6-beda-4746-a02e-357d6d3aa260"
      },
      "source": [
        "example == df_y[:40]"
      ],
      "execution_count": 145,
      "outputs": [
        {
          "output_type": "execute_result",
          "data": {
            "text/plain": [
              "tensor([False, False, False, False, False, False, False, False, False, False,\n",
              "        False, False, False, False, False, False, False, False, False, False,\n",
              "        False, False, False, False, False, False, False,  True, False, False,\n",
              "        False, False, False, False, False, False,  True, False, False, False])"
            ]
          },
          "metadata": {
            "tags": []
          },
          "execution_count": 145
        }
      ]
    },
    {
      "cell_type": "markdown",
      "metadata": {
        "id": "aMow1yaJYuBZ",
        "colab_type": "text"
      },
      "source": [
        "By using torch 'sum()' function on it, we can get the total count of 'True' values, and by calling 'item()', we can access it as an integer value."
      ]
    },
    {
      "cell_type": "code",
      "metadata": {
        "id": "OO7DU2hOYPwJ",
        "colab_type": "code",
        "colab": {
          "base_uri": "https://localhost:8080/",
          "height": 34
        },
        "outputId": "8800c29e-2d1b-4c63-9403-49c57cb4ab8c"
      },
      "source": [
        "torch.sum(example == df_y[:40]).item()"
      ],
      "execution_count": 146,
      "outputs": [
        {
          "output_type": "execute_result",
          "data": {
            "text/plain": [
              "2"
            ]
          },
          "metadata": {
            "tags": []
          },
          "execution_count": 146
        }
      ]
    },
    {
      "cell_type": "markdown",
      "metadata": {
        "id": "GckSd89yZLNh",
        "colab_type": "text"
      },
      "source": [
        "Then we have to divide it by total count of predictions getting the average of correct predictions value."
      ]
    },
    {
      "cell_type": "code",
      "metadata": {
        "id": "f6EaLK1KXwUi",
        "colab_type": "code",
        "colab": {
          "base_uri": "https://localhost:8080/",
          "height": 34
        },
        "outputId": "b989ed88-0ffd-45b3-d7b7-87dacb5188cf"
      },
      "source": [
        "torch.tensor(torch.sum(example == df_y[:40]).item() / len(example))"
      ],
      "execution_count": 147,
      "outputs": [
        {
          "output_type": "execute_result",
          "data": {
            "text/plain": [
              "tensor(0.0500)"
            ]
          },
          "metadata": {
            "tags": []
          },
          "execution_count": 147
        }
      ]
    },
    {
      "cell_type": "markdown",
      "metadata": {
        "id": "qWSUIV25XtOa",
        "colab_type": "text"
      },
      "source": [
        "Lets put everything into one function."
      ]
    },
    {
      "cell_type": "code",
      "metadata": {
        "id": "kwJYzO5v-gFZ",
        "colab_type": "code",
        "colab": {}
      },
      "source": [
        "def accuracy(outputs, labels):\n",
        "    _, preds = torch.max(outputs, dim=1)\n",
        "    return torch.tensor(torch.sum(preds == labels).item() / len(preds))"
      ],
      "execution_count": 148,
      "outputs": []
    },
    {
      "cell_type": "code",
      "metadata": {
        "id": "mL-vPLTJ8KCz",
        "colab_type": "code",
        "colab": {
          "base_uri": "https://localhost:8080/",
          "height": 34
        },
        "outputId": "bf2c7e16-019a-459f-82a3-65e8e666a056"
      },
      "source": [
        "accuracy(preds, df_y[:40])"
      ],
      "execution_count": 149,
      "outputs": [
        {
          "output_type": "execute_result",
          "data": {
            "text/plain": [
              "tensor(0.0500)"
            ]
          },
          "metadata": {
            "tags": []
          },
          "execution_count": 149
        }
      ]
    },
    {
      "cell_type": "markdown",
      "metadata": {
        "id": "o4ewdUVZZbHS",
        "colab_type": "text"
      },
      "source": [
        "So as we can see, the prediction was terrible. What we want to do is improve our parameters and try calculating again. But how can we do that?\n",
        "We need to calculate our loss. The accuracy is not a way to calculate it. The reason for that is because accuracy gives us a value that is either right or wrong. We have no idea how wrong or right our prediction was. One way to calculate our loss is to convert our predictions into percentage values representing how likely this output to be the right prediction. So that all of our predictions together would be equal to 1.Thats that we call 'softmax'. By applying log on our calculated 'softmax' we get 'log_softmax' function."
      ]
    },
    {
      "cell_type": "code",
      "metadata": {
        "id": "zuoC5pIglD42",
        "colab_type": "code",
        "colab": {}
      },
      "source": [
        "def log_softmax(x): return x - x.exp().sum(-1).log().unsqueeze(-1)"
      ],
      "execution_count": 150,
      "outputs": []
    },
    {
      "cell_type": "code",
      "metadata": {
        "id": "bpP_o632vE8G",
        "colab_type": "code",
        "colab": {
          "base_uri": "https://localhost:8080/",
          "height": 69
        },
        "outputId": "eb4d183c-a31b-490d-a51c-e7033ae9fdbc"
      },
      "source": [
        "pred1 = log_softmax(preds)\n",
        "pred1[0]"
      ],
      "execution_count": 151,
      "outputs": [
        {
          "output_type": "execute_result",
          "data": {
            "text/plain": [
              "tensor([-1.1237e+01, -1.0241e+01, -1.5010e+01, -4.6457e+00, -1.2637e+01,\n",
              "        -2.1538e+01, -9.9735e-03, -8.2242e+00, -2.0560e+01, -1.6503e+01],\n",
              "       grad_fn=<SelectBackward>)"
            ]
          },
          "metadata": {
            "tags": []
          },
          "execution_count": 151
        }
      ]
    },
    {
      "cell_type": "markdown",
      "metadata": {
        "id": "NCYw9OLPiJYF",
        "colab_type": "text"
      },
      "source": [
        "Then we are going to select only the value of the correct predictions from all of the samples, calculate their average, and convert it to the positive value. This gives us 'Negative Log-Likelihood'. The bigger value of our output is, the bigger loss we have. The smaller value it is(close to zero), the smaller loss we get.  "
      ]
    },
    {
      "cell_type": "code",
      "metadata": {
        "id": "QYsmww82Zu2d",
        "colab_type": "code",
        "colab": {}
      },
      "source": [
        "def nll(input, target): return -input[range(target.shape[0]), target].mean()"
      ],
      "execution_count": 152,
      "outputs": []
    },
    {
      "cell_type": "code",
      "metadata": {
        "id": "ZybeHWj6Z6hk",
        "colab_type": "code",
        "colab": {
          "base_uri": "https://localhost:8080/",
          "height": 34
        },
        "outputId": "0fc44f47-47ea-4b16-b93b-96e5acda5c2d"
      },
      "source": [
        "pred1 = log_softmax(preds)\n",
        "loss1 = nll(pred1, df_y[:40])\n",
        "loss1"
      ],
      "execution_count": 153,
      "outputs": [
        {
          "output_type": "execute_result",
          "data": {
            "text/plain": [
              "tensor(9.5463, grad_fn=<NegBackward>)"
            ]
          },
          "metadata": {
            "tags": []
          },
          "execution_count": 153
        }
      ]
    },
    {
      "cell_type": "markdown",
      "metadata": {
        "id": "941zg_QpdUwf",
        "colab_type": "text"
      },
      "source": [
        "We don't need to implement those two functions by hand. We can use  PyTorch given 'cross_entropy' and get the same result as it is a combination of before implemented 'log_softmax' and 'negative_log_likehood' functions."
      ]
    },
    {
      "cell_type": "code",
      "metadata": {
        "id": "a809JC3KBl1Z",
        "colab_type": "code",
        "colab": {
          "base_uri": "https://localhost:8080/",
          "height": 34
        },
        "outputId": "2123ab43-67d9-4ef6-8337-7b08c13f4cc8"
      },
      "source": [
        "loss_fn = F.cross_entropy\n",
        "# Loss for current batch of data\n",
        "loss = loss_fn(preds, df_y[:40])\n",
        "print(loss)"
      ],
      "execution_count": 154,
      "outputs": [
        {
          "output_type": "stream",
          "text": [
            "tensor(9.5463, grad_fn=<NllLossBackward>)\n"
          ],
          "name": "stdout"
        }
      ]
    },
    {
      "cell_type": "markdown",
      "metadata": {
        "id": "kqZSq6j6eGXm",
        "colab_type": "text"
      },
      "source": [
        "So now, then we have our loss its time to run our whole dataset and finally train our network. One thing that we are going to use for our full dataset is DataLoader. It is going to let us train our network using mini-batches."
      ]
    },
    {
      "cell_type": "code",
      "metadata": {
        "id": "a554SzV0Gz9w",
        "colab_type": "code",
        "colab": {}
      },
      "source": [
        "dl = DataLoader(train_ds, batch_size=256)\n"
      ],
      "execution_count": 155,
      "outputs": []
    },
    {
      "cell_type": "markdown",
      "metadata": {
        "id": "z4dtrNamlnca",
        "colab_type": "text"
      },
      "source": [
        "If we inspect the size of the first mini-batch, we will notice that it contains 256 images(same size as we defined before)."
      ]
    },
    {
      "cell_type": "code",
      "metadata": {
        "id": "62vZDfrLc8LD",
        "colab_type": "code",
        "colab": {
          "base_uri": "https://localhost:8080/",
          "height": 34
        },
        "outputId": "ede6bfd4-a4cf-4488-93b5-8f2d6fbe4ad3"
      },
      "source": [
        "xb,yb = first(dl)\n",
        "xb.shape,yb.shape"
      ],
      "execution_count": 156,
      "outputs": [
        {
          "output_type": "execute_result",
          "data": {
            "text/plain": [
              "(torch.Size([256, 784]), torch.Size([256]))"
            ]
          },
          "metadata": {
            "tags": []
          },
          "execution_count": 156
        }
      ]
    },
    {
      "cell_type": "markdown",
      "metadata": {
        "id": "y-R3KDZJlx5N",
        "colab_type": "text"
      },
      "source": [
        "Lets do the same for validation set."
      ]
    },
    {
      "cell_type": "code",
      "metadata": {
        "id": "aDNOTuGLFGLp",
        "colab_type": "code",
        "colab": {}
      },
      "source": [
        "valid_dl = DataLoader(val_ds, batch_size=256)"
      ],
      "execution_count": 157,
      "outputs": []
    },
    {
      "cell_type": "markdown",
      "metadata": {
        "id": "_4ylWtj8wIhQ",
        "colab_type": "text"
      },
      "source": [
        "Now to see if everything is going to work fine, first, let's try to train our network on small dataset example. Let's select 40 examples as before."
      ]
    },
    {
      "cell_type": "code",
      "metadata": {
        "id": "ImkxsXK6FaeP",
        "colab_type": "code",
        "colab": {
          "base_uri": "https://localhost:8080/",
          "height": 34
        },
        "outputId": "10a64203-0001-42e0-bc9b-97109e0daea0"
      },
      "source": [
        "batch = df_x[:40]\n",
        "batch.shape"
      ],
      "execution_count": 158,
      "outputs": [
        {
          "output_type": "execute_result",
          "data": {
            "text/plain": [
              "torch.Size([40, 784])"
            ]
          },
          "metadata": {
            "tags": []
          },
          "execution_count": 158
        }
      ]
    },
    {
      "cell_type": "markdown",
      "metadata": {
        "id": "2RU_MNGtwYvN",
        "colab_type": "text"
      },
      "source": [
        "Run it through the before made linear model and get our calculations."
      ]
    },
    {
      "cell_type": "code",
      "metadata": {
        "id": "EsRoZ4j5FahX",
        "colab_type": "code",
        "colab": {
          "base_uri": "https://localhost:8080/",
          "height": 190
        },
        "outputId": "db0aac9d-3472-480d-e55d-23da4906e7f1"
      },
      "source": [
        "preds = linear(batch)\n",
        "preds[:5]"
      ],
      "execution_count": 159,
      "outputs": [
        {
          "output_type": "execute_result",
          "data": {
            "text/plain": [
              "tensor([[ 1.8791,  2.8753, -1.8936,  8.4709,  0.4792, -8.4212, 13.1066,  4.8924,\n",
              "         -7.4439, -3.3860],\n",
              "        [ 1.8609, -7.1370,  5.0990,  2.7264, -2.2692, -3.1977,  1.4100,  0.6469,\n",
              "         -7.1241, -4.8157],\n",
              "        [ 5.4444,  5.1601,  3.0672, -6.4859, 11.8515, 14.0330,  4.9745,  0.2390,\n",
              "          1.2314, -1.5407],\n",
              "        [-1.0287,  3.9156,  6.9652,  4.6794, -1.9739,  4.1155,  2.4142, -1.3916,\n",
              "         -4.6344, -1.1138],\n",
              "        [ 3.6376,  6.2520,  4.0436,  0.5839, -1.3109, -1.8403,  2.0207,  4.5624,\n",
              "          5.1338,  4.0897]], grad_fn=<SliceBackward>)"
            ]
          },
          "metadata": {
            "tags": []
          },
          "execution_count": 159
        }
      ]
    },
    {
      "cell_type": "markdown",
      "metadata": {
        "id": "-s30_wgZwkbW",
        "colab_type": "text"
      },
      "source": [
        "Calculate our losses."
      ]
    },
    {
      "cell_type": "code",
      "metadata": {
        "id": "L-NitINcFakk",
        "colab_type": "code",
        "colab": {
          "base_uri": "https://localhost:8080/",
          "height": 34
        },
        "outputId": "9394e58f-c41a-4fdc-911a-720736d352e0"
      },
      "source": [
        "loss = loss_fn(preds, df_y[:40])\n",
        "loss"
      ],
      "execution_count": 160,
      "outputs": [
        {
          "output_type": "execute_result",
          "data": {
            "text/plain": [
              "tensor(9.5463, grad_fn=<NllLossBackward>)"
            ]
          },
          "metadata": {
            "tags": []
          },
          "execution_count": 160
        }
      ]
    },
    {
      "cell_type": "markdown",
      "metadata": {
        "id": "vnP3NfgfwtN-",
        "colab_type": "text"
      },
      "source": [
        "It seems that everything works just like before. Now we can start improving our score by optimizing our weights to give us better predictions. We will achieve this with backpropagation. With PyTorch, backpropagation is quite easy. If your parameters had 'requires_grad_()' function called(that we did), PyTorch knows that in case of backpropagation, these values need gradient calculated for them. So you only need to construct the forward pass of your network(what we already did) and call the 'backward()' function after calculating loss. It will make PyTorch calculate the gradients for all of the tensors with 'requires_grad_()' involved with the chain of calculations done calculating the loss."
      ]
    },
    {
      "cell_type": "code",
      "metadata": {
        "id": "PIJbt7HLFan4",
        "colab_type": "code",
        "colab": {
          "base_uri": "https://localhost:8080/",
          "height": 86
        },
        "outputId": "3b8f24c1-5e6f-42f5-b03f-3187bd22b0e2"
      },
      "source": [
        "loss.backward()\n",
        "weights.grad.shape,weights.grad.mean(),bias.grad"
      ],
      "execution_count": 161,
      "outputs": [
        {
          "output_type": "execute_result",
          "data": {
            "text/plain": [
              "(torch.Size([784, 10]),\n",
              " tensor(-1.2164e-10),\n",
              " tensor([-0.0235, -0.0493,  0.0064,  0.0444, -0.0689, -0.0630,  0.3313,  0.0054,\n",
              "         -0.0891, -0.0937]))"
            ]
          },
          "metadata": {
            "tags": []
          },
          "execution_count": 161
        }
      ]
    },
    {
      "cell_type": "markdown",
      "metadata": {
        "id": "lz0JODFp099l",
        "colab_type": "text"
      },
      "source": [
        "Lets put everything into one function."
      ]
    },
    {
      "cell_type": "code",
      "metadata": {
        "id": "ufH6BNJnFare",
        "colab_type": "code",
        "colab": {}
      },
      "source": [
        "def calc_grad(xb, yb, model):\n",
        "    preds = model(xb)\n",
        "    loss = loss_fn(preds, yb)\n",
        "    loss.backward()"
      ],
      "execution_count": 162,
      "outputs": []
    },
    {
      "cell_type": "markdown",
      "metadata": {
        "id": "4RuDHviANiM4",
        "colab_type": "text"
      },
      "source": [
        "Call it again. As you can see while we done the same thing, our gradients increased twice."
      ]
    },
    {
      "cell_type": "code",
      "metadata": {
        "id": "01yHEvyq796j",
        "colab_type": "code",
        "colab": {
          "base_uri": "https://localhost:8080/",
          "height": 69
        },
        "outputId": "1014c3f0-de4e-41b8-f22f-f7f92bc0c0a0"
      },
      "source": [
        "calc_grad(batch, df_y[:40], linear)\n",
        "weights.grad.mean(),bias.grad"
      ],
      "execution_count": 163,
      "outputs": [
        {
          "output_type": "execute_result",
          "data": {
            "text/plain": [
              "(tensor(-2.4328e-10),\n",
              " tensor([-0.0471, -0.0987,  0.0127,  0.0889, -0.1379, -0.1260,  0.6627,  0.0108,\n",
              "         -0.1781, -0.1873]))"
            ]
          },
          "metadata": {
            "tags": []
          },
          "execution_count": 163
        }
      ]
    },
    {
      "cell_type": "markdown",
      "metadata": {
        "id": "4uZOxoEIzvMW",
        "colab_type": "text"
      },
      "source": [
        "By calling 'backward()', we had our parameters gradients saved in 'grad' tensor. After we called 'backward()' again, our gradients had been stacked together with the previous iteration gradients. We want to calculate fresh gradients each time after we finish our training loop. So that we do is call 'zero_()' on our 'grad' tensor. This will do in-place cleaning of our parameter gradient. Note that any Python functions, which have '_' in their name, are usually doing in-place editing."
      ]
    },
    {
      "cell_type": "code",
      "metadata": {
        "id": "MQvllQxjIEom",
        "colab_type": "code",
        "colab": {}
      },
      "source": [
        "weights.grad.zero_()\n",
        "bias.grad.zero_();"
      ],
      "execution_count": 164,
      "outputs": []
    },
    {
      "cell_type": "markdown",
      "metadata": {
        "id": "Bkb3rAruOmwl",
        "colab_type": "text"
      },
      "source": [
        "So now, we mostly did everything that you need to train our neural network apart from updating the weights with the calculated gradient.\n",
        "\n",
        "Let's Initialize our parameters from the start and do everything in one function."
      ]
    },
    {
      "cell_type": "code",
      "metadata": {
        "id": "7QB42Cghwdav",
        "colab_type": "code",
        "colab": {}
      },
      "source": [
        "weights = init_params((28*28,10))\n",
        "bias = init_params(10)"
      ],
      "execution_count": 165,
      "outputs": []
    },
    {
      "cell_type": "markdown",
      "metadata": {
        "id": "jbIW9UivO_6-",
        "colab_type": "text"
      },
      "source": [
        "'Train_epoch' basically contains our training loop. It runs our batches through a linear layer and calculates the loss and gradients. Finally, updates our parameters accordingly to it using the learning rate."
      ]
    },
    {
      "cell_type": "code",
      "metadata": {
        "id": "tXuem1tmfokP",
        "colab_type": "code",
        "colab": {}
      },
      "source": [
        "def train_epoch(model, lr, params):\n",
        "    for xb,yb in dl:\n",
        "        calc_grad(xb, yb, model)\n",
        "        for p in params:\n",
        "            p.data -= p.grad*lr\n",
        "            p.grad.zero_()"
      ],
      "execution_count": 166,
      "outputs": []
    },
    {
      "cell_type": "code",
      "metadata": {
        "id": "zp6kZOEWiGvn",
        "colab_type": "code",
        "colab": {}
      },
      "source": [
        "lr = .5\n",
        "params = weights,bias\n",
        "train_epoch(linear, lr, params)"
      ],
      "execution_count": 167,
      "outputs": []
    },
    {
      "cell_type": "markdown",
      "metadata": {
        "id": "e4_TbJ5tTNlX",
        "colab_type": "text"
      },
      "source": [
        "That's it! We just trained our linear layer for one epoch. Let's define our function for testing on the validation set. It will iterate through our mini-batches in the validation DataLoader, will calculate their accuracy using before defined 'accuracy' function. And will return us the average loss of our mini-batches."
      ]
    },
    {
      "cell_type": "code",
      "metadata": {
        "id": "FBa6H4f7g0t4",
        "colab_type": "code",
        "colab": {}
      },
      "source": [
        "def validate_epoch(model):\n",
        "    accs = [accuracy(model(xb), yb) for xb,yb in valid_dl]\n",
        "    return round(torch.stack(accs).mean().item(), 6)"
      ],
      "execution_count": 168,
      "outputs": []
    },
    {
      "cell_type": "markdown",
      "metadata": {
        "id": "9cQ54kiqXVnt",
        "colab_type": "text"
      },
      "source": [
        "After 1 loop we got 83%. Thats not bad."
      ]
    },
    {
      "cell_type": "code",
      "metadata": {
        "id": "Dw61FwZohxaQ",
        "colab_type": "code",
        "colab": {
          "base_uri": "https://localhost:8080/",
          "height": 34
        },
        "outputId": "09938d15-37bc-48a4-83d0-bfa8ca12bfad"
      },
      "source": [
        "validate_epoch(linear)"
      ],
      "execution_count": 169,
      "outputs": [
        {
          "output_type": "execute_result",
          "data": {
            "text/plain": [
              "0.838217"
            ]
          },
          "metadata": {
            "tags": []
          },
          "execution_count": 169
        }
      ]
    },
    {
      "cell_type": "markdown",
      "metadata": {
        "id": "d6tEbOFoXmaM",
        "colab_type": "text"
      },
      "source": [
        "After iterating for another 20 times we have reached the accuracy of 95%. "
      ]
    },
    {
      "cell_type": "code",
      "metadata": {
        "id": "HOmHV2IbiRJX",
        "colab_type": "code",
        "colab": {
          "base_uri": "https://localhost:8080/",
          "height": 54
        },
        "outputId": "738e60a1-6d99-4c28-bc72-6688e5e613e0"
      },
      "source": [
        "for i in range(20):\n",
        "    train_epoch(linear, lr, params)\n",
        "    print(validate_epoch(linear), end=' ')"
      ],
      "execution_count": 170,
      "outputs": [
        {
          "output_type": "stream",
          "text": [
            "0.882017 0.902106 0.913184 0.920272 0.925936 0.930044 0.933463 0.936455 0.938521 0.941098 0.94276 0.94409 0.945681 0.947343 0.948506 0.949254 0.949836 0.950917 0.951487 0.952401 "
          ],
          "name": "stdout"
        }
      ]
    },
    {
      "cell_type": "markdown",
      "metadata": {
        "id": "wuNTlhbtl7fW",
        "colab_type": "text"
      },
      "source": [
        "Thats it! Thats the implementation of the logistic regression!"
      ]
    },
    {
      "cell_type": "markdown",
      "metadata": {
        "id": "5lS8SsnrihXA",
        "colab_type": "text"
      },
      "source": [
        "#Creating an Optimizer"
      ]
    },
    {
      "cell_type": "markdown",
      "metadata": {
        "id": "qgXu2xyxlxyo",
        "colab_type": "text"
      },
      "source": [
        "Now, let's rewrite this in an easier way using PyTorch.\n",
        " \n",
        "First of all, PyTorch has a linear layer implementation."
      ]
    },
    {
      "cell_type": "code",
      "metadata": {
        "id": "vW4OfYNXiY8_",
        "colab_type": "code",
        "colab": {}
      },
      "source": [
        "linear_model = nn.Linear(28*28,10)"
      ],
      "execution_count": 180,
      "outputs": []
    },
    {
      "cell_type": "markdown",
      "metadata": {
        "id": "HkOCpTMOmZj3",
        "colab_type": "text"
      },
      "source": [
        "By using PyTorch layers, we no longer need to initialize parameters. PyTorch does it for us simply by looking at the specified shape for the required layer and creating parameters for it. By calling 'parameters()' function on our created layers, we can inspect the created parameters."
      ]
    },
    {
      "cell_type": "code",
      "metadata": {
        "id": "D4jb9OMamSsq",
        "colab_type": "code",
        "colab": {
          "base_uri": "https://localhost:8080/",
          "height": 34
        },
        "outputId": "dd23f136-8a30-4c4c-fa29-c06c5e93d19e"
      },
      "source": [
        "w,b = linear_model.parameters()\n",
        "w.shape,b.shape"
      ],
      "execution_count": 172,
      "outputs": [
        {
          "output_type": "execute_result",
          "data": {
            "text/plain": [
              "(torch.Size([10, 784]), torch.Size([10]))"
            ]
          },
          "metadata": {
            "tags": []
          },
          "execution_count": 172
        }
      ]
    },
    {
      "cell_type": "markdown",
      "metadata": {
        "id": "A-5rmbFWnODH",
        "colab_type": "text"
      },
      "source": [
        "Let's define an optimizer class. That optimizer will do it will contain the functions for adjusting our parameters data after PyTorch calculates the gradients. "
      ]
    },
    {
      "cell_type": "code",
      "metadata": {
        "id": "9b6t7yNAm0GP",
        "colab_type": "code",
        "colab": {}
      },
      "source": [
        "class BasicOptim:\n",
        "    def __init__(self,params,lr): self.params,self.lr = list(params),lr\n",
        "\n",
        "    def step(self, *args, **kwargs):\n",
        "        for p in self.params: p.data -= p.grad.data * self.lr\n",
        "\n",
        "    def zero_grad(self, *args, **kwargs):\n",
        "        for p in self.params: p.grad = None"
      ],
      "execution_count": 173,
      "outputs": []
    },
    {
      "cell_type": "markdown",
      "metadata": {
        "id": "0ZtNl9KPYoK7",
        "colab_type": "text"
      },
      "source": [
        "To initialize it, you need to give it a parameters of your layer and a learning rate."
      ]
    },
    {
      "cell_type": "code",
      "metadata": {
        "id": "jvJwxSF5m8Pd",
        "colab_type": "code",
        "colab": {}
      },
      "source": [
        "opt = BasicOptim(linear_model.parameters(), lr)"
      ],
      "execution_count": 185,
      "outputs": []
    },
    {
      "cell_type": "markdown",
      "metadata": {
        "id": "Qrt4xIrMYNV8",
        "colab_type": "text"
      },
      "source": [
        "As you can see, this is our updated training loop. It looks very much the same as the one we had before, with a difference that we have our parameters updating in a 'step()' function."
      ]
    },
    {
      "cell_type": "code",
      "metadata": {
        "id": "xxry_9R5nNBF",
        "colab_type": "code",
        "colab": {}
      },
      "source": [
        "def train_epoch(model):\n",
        "    for xb,yb in dl:\n",
        "        calc_grad(xb, yb, model)\n",
        "        opt.step()\n",
        "        opt.zero_grad()"
      ],
      "execution_count": 181,
      "outputs": []
    },
    {
      "cell_type": "markdown",
      "metadata": {
        "id": "aqY41m7M9D6y",
        "colab_type": "text"
      },
      "source": [
        "Initial value with no training."
      ]
    },
    {
      "cell_type": "code",
      "metadata": {
        "id": "JulzOfxmng73",
        "colab_type": "code",
        "colab": {
          "base_uri": "https://localhost:8080/",
          "height": 34
        },
        "outputId": "cc950cc4-2fbd-436b-9228-fdc79e6308e3"
      },
      "source": [
        "validate_epoch(linear_model)"
      ],
      "execution_count": 187,
      "outputs": [
        {
          "output_type": "execute_result",
          "data": {
            "text/plain": [
              "0.966304"
            ]
          },
          "metadata": {
            "tags": []
          },
          "execution_count": 187
        }
      ]
    },
    {
      "cell_type": "markdown",
      "metadata": {
        "id": "3D_KMnoOnqxG",
        "colab_type": "text"
      },
      "source": [
        "Lets put Everything into one function."
      ]
    },
    {
      "cell_type": "code",
      "metadata": {
        "id": "OXfmUGugnpvv",
        "colab_type": "code",
        "colab": {}
      },
      "source": [
        "def train_model(model, epochs):\n",
        "    for i in range(epochs):\n",
        "        train_epoch(model)\n",
        "        print(validate_epoch(model), end=' ')"
      ],
      "execution_count": 183,
      "outputs": []
    },
    {
      "cell_type": "markdown",
      "metadata": {
        "id": "ra6Wf6SkZyIm",
        "colab_type": "text"
      },
      "source": [
        "As you can see, we get very similar results as before. The only difference is that I have not reset the random seed before doing layer initialization, getting different random parameters."
      ]
    },
    {
      "cell_type": "code",
      "metadata": {
        "id": "0zIR5kwCnuYs",
        "colab_type": "code",
        "colab": {
          "base_uri": "https://localhost:8080/",
          "height": 54
        },
        "outputId": "51225d83-9e50-432e-d6a3-3b444be10cba"
      },
      "source": [
        "train_model(linear_model, 20)"
      ],
      "execution_count": 186,
      "outputs": [
        {
          "output_type": "stream",
          "text": [
            "0.950311 0.954906 0.957471 0.959477 0.960558 0.961472 0.961638 0.962054 0.962802 0.963395 0.963645 0.964143 0.964309 0.964725 0.965141 0.96539 0.965639 0.965972 0.966138 0.966304 "
          ],
          "name": "stdout"
        }
      ]
    },
    {
      "cell_type": "markdown",
      "metadata": {
        "id": "no2NZk0GoJ8f",
        "colab_type": "text"
      },
      "source": [
        "So now, let's make everything even more abstract. Before, we have created our optimizer class. Instead, we could have used PyTorch given SGD(Stochastic Gradient Descent) optimizer."
      ]
    },
    {
      "cell_type": "code",
      "metadata": {
        "id": "9FuEzXHfnw_2",
        "colab_type": "code",
        "colab": {
          "base_uri": "https://localhost:8080/",
          "height": 54
        },
        "outputId": "20539d0f-f163-457d-cb71-534e9e3cc3ce"
      },
      "source": [
        "linear_model = nn.Linear(28*28,10)\n",
        "opt = SGD(linear_model.parameters(), lr)\n",
        "train_model(linear_model, 20)"
      ],
      "execution_count": 188,
      "outputs": [
        {
          "output_type": "stream",
          "text": [
            "0.948803 0.954134 0.957803 0.958812 0.960225 0.960724 0.961555 0.962149 0.96298 0.963395 0.963645 0.963977 0.964309 0.964642 0.965057 0.965224 0.965473 0.965722 0.966304 0.966637 "
          ],
          "name": "stdout"
        }
      ]
    },
    {
      "cell_type": "markdown",
      "metadata": {
        "id": "xD2uV32DbShL",
        "colab_type": "text"
      },
      "source": [
        "We can make this even more abstract using fastai library. For fastai we need to use DataLoaders."
      ]
    },
    {
      "cell_type": "code",
      "metadata": {
        "id": "d2TtSLKIn60E",
        "colab_type": "code",
        "colab": {}
      },
      "source": [
        "dls = DataLoaders(dl, valid_dl)"
      ],
      "execution_count": 189,
      "outputs": []
    },
    {
      "cell_type": "markdown",
      "metadata": {
        "id": "ZQEWNTegbhHO",
        "colab_type": "text"
      },
      "source": [
        "Then we define our learner. It contains everything needed for our training loop:\n",
        "\n",
        "1.   DataLoaders containing our training and validation sets.\n",
        "2.   Model construction containing our neural network layers.\n",
        "3.   Optimization method.\n",
        "4.   Loss function.\n",
        "5.   Metric used for evaluation\n",
        "\n"
      ]
    },
    {
      "cell_type": "code",
      "metadata": {
        "id": "qqRo0NxyoYdl",
        "colab_type": "code",
        "colab": {}
      },
      "source": [
        "learn = Learner(dls, nn.Linear(28*28,10), opt_func=SGD,\n",
        "                loss_func=loss_fn, metrics=accuracy)"
      ],
      "execution_count": 190,
      "outputs": []
    },
    {
      "cell_type": "markdown",
      "metadata": {
        "id": "6HKDz8qfcgq7",
        "colab_type": "text"
      },
      "source": [
        "Now we can call fit and train our neural network for the specified amount of epochs using the selected learning rate."
      ]
    },
    {
      "cell_type": "code",
      "metadata": {
        "id": "ZqhKC9HJoiLk",
        "colab_type": "code",
        "colab": {
          "base_uri": "https://localhost:8080/",
          "height": 676
        },
        "outputId": "37de2eba-c530-4bc8-a25c-0dcf27381cde"
      },
      "source": [
        "learn.fit(20, lr=lr)"
      ],
      "execution_count": 191,
      "outputs": [
        {
          "output_type": "display_data",
          "data": {
            "text/html": [
              "<table border=\"1\" class=\"dataframe\">\n",
              "  <thead>\n",
              "    <tr style=\"text-align: left;\">\n",
              "      <th>epoch</th>\n",
              "      <th>train_loss</th>\n",
              "      <th>valid_loss</th>\n",
              "      <th>accuracy</th>\n",
              "      <th>time</th>\n",
              "    </tr>\n",
              "  </thead>\n",
              "  <tbody>\n",
              "    <tr>\n",
              "      <td>0</td>\n",
              "      <td>0.246657</td>\n",
              "      <td>0.211038</td>\n",
              "      <td>0.948667</td>\n",
              "      <td>00:01</td>\n",
              "    </tr>\n",
              "    <tr>\n",
              "      <td>1</td>\n",
              "      <td>0.182390</td>\n",
              "      <td>0.174122</td>\n",
              "      <td>0.954083</td>\n",
              "      <td>00:01</td>\n",
              "    </tr>\n",
              "    <tr>\n",
              "      <td>2</td>\n",
              "      <td>0.161337</td>\n",
              "      <td>0.158016</td>\n",
              "      <td>0.957750</td>\n",
              "      <td>00:01</td>\n",
              "    </tr>\n",
              "    <tr>\n",
              "      <td>3</td>\n",
              "      <td>0.149650</td>\n",
              "      <td>0.148503</td>\n",
              "      <td>0.959500</td>\n",
              "      <td>00:01</td>\n",
              "    </tr>\n",
              "    <tr>\n",
              "      <td>4</td>\n",
              "      <td>0.141770</td>\n",
              "      <td>0.142068</td>\n",
              "      <td>0.960167</td>\n",
              "      <td>00:01</td>\n",
              "    </tr>\n",
              "    <tr>\n",
              "      <td>5</td>\n",
              "      <td>0.135925</td>\n",
              "      <td>0.137359</td>\n",
              "      <td>0.961000</td>\n",
              "      <td>00:01</td>\n",
              "    </tr>\n",
              "    <tr>\n",
              "      <td>6</td>\n",
              "      <td>0.131332</td>\n",
              "      <td>0.133732</td>\n",
              "      <td>0.961667</td>\n",
              "      <td>00:01</td>\n",
              "    </tr>\n",
              "    <tr>\n",
              "      <td>7</td>\n",
              "      <td>0.127578</td>\n",
              "      <td>0.130832</td>\n",
              "      <td>0.961917</td>\n",
              "      <td>00:01</td>\n",
              "    </tr>\n",
              "    <tr>\n",
              "      <td>8</td>\n",
              "      <td>0.124423</td>\n",
              "      <td>0.128451</td>\n",
              "      <td>0.962667</td>\n",
              "      <td>00:01</td>\n",
              "    </tr>\n",
              "    <tr>\n",
              "      <td>9</td>\n",
              "      <td>0.121715</td>\n",
              "      <td>0.126453</td>\n",
              "      <td>0.963083</td>\n",
              "      <td>00:01</td>\n",
              "    </tr>\n",
              "    <tr>\n",
              "      <td>10</td>\n",
              "      <td>0.119351</td>\n",
              "      <td>0.124749</td>\n",
              "      <td>0.963083</td>\n",
              "      <td>00:01</td>\n",
              "    </tr>\n",
              "    <tr>\n",
              "      <td>11</td>\n",
              "      <td>0.117259</td>\n",
              "      <td>0.123276</td>\n",
              "      <td>0.963667</td>\n",
              "      <td>00:01</td>\n",
              "    </tr>\n",
              "    <tr>\n",
              "      <td>12</td>\n",
              "      <td>0.115389</td>\n",
              "      <td>0.121989</td>\n",
              "      <td>0.964250</td>\n",
              "      <td>00:01</td>\n",
              "    </tr>\n",
              "    <tr>\n",
              "      <td>13</td>\n",
              "      <td>0.113701</td>\n",
              "      <td>0.120853</td>\n",
              "      <td>0.964667</td>\n",
              "      <td>00:01</td>\n",
              "    </tr>\n",
              "    <tr>\n",
              "      <td>14</td>\n",
              "      <td>0.112165</td>\n",
              "      <td>0.119842</td>\n",
              "      <td>0.964750</td>\n",
              "      <td>00:01</td>\n",
              "    </tr>\n",
              "    <tr>\n",
              "      <td>15</td>\n",
              "      <td>0.110758</td>\n",
              "      <td>0.118938</td>\n",
              "      <td>0.965167</td>\n",
              "      <td>00:01</td>\n",
              "    </tr>\n",
              "    <tr>\n",
              "      <td>16</td>\n",
              "      <td>0.109463</td>\n",
              "      <td>0.118124</td>\n",
              "      <td>0.965167</td>\n",
              "      <td>00:01</td>\n",
              "    </tr>\n",
              "    <tr>\n",
              "      <td>17</td>\n",
              "      <td>0.108264</td>\n",
              "      <td>0.117387</td>\n",
              "      <td>0.965583</td>\n",
              "      <td>00:01</td>\n",
              "    </tr>\n",
              "    <tr>\n",
              "      <td>18</td>\n",
              "      <td>0.107149</td>\n",
              "      <td>0.116718</td>\n",
              "      <td>0.966000</td>\n",
              "      <td>00:01</td>\n",
              "    </tr>\n",
              "    <tr>\n",
              "      <td>19</td>\n",
              "      <td>0.106107</td>\n",
              "      <td>0.116107</td>\n",
              "      <td>0.966333</td>\n",
              "      <td>00:01</td>\n",
              "    </tr>\n",
              "  </tbody>\n",
              "</table>"
            ],
            "text/plain": [
              "<IPython.core.display.HTML object>"
            ]
          },
          "metadata": {
            "tags": []
          }
        }
      ]
    },
    {
      "cell_type": "markdown",
      "metadata": {
        "id": "gQ8eO8rup4f3",
        "colab_type": "text"
      },
      "source": [
        "#Adding a Nonlinearity"
      ]
    },
    {
      "cell_type": "markdown",
      "metadata": {
        "id": "dkaSCzCFp60G",
        "colab_type": "text"
      },
      "source": [
        "So just now, we have created a very simple one layer linear model. Now we are going to convert it into the neural network, which contains two layers. To do that, we need to specify the relu layer in between two linear layers. Relu stands for a rectified linear unit. Also, known as... a very simple function with a fancy name? That relu does it simply takes all negative values and converts it to zero. We need to do this because we can not stack multiple linear layers, one on another directly. If we do that, it's no different from having another big linear layer with more parameters."
      ]
    },
    {
      "cell_type": "code",
      "metadata": {
        "id": "CirqzMajlBjc",
        "colab_type": "code",
        "colab": {
          "base_uri": "https://localhost:8080/",
          "height": 282
        },
        "outputId": "16d330e0-551b-48dc-ff96-db7ae8061219"
      },
      "source": [
        "x = torch.linspace(-2,2)\n",
        "plt.plot(x,F.relu(x))"
      ],
      "execution_count": 192,
      "outputs": [
        {
          "output_type": "execute_result",
          "data": {
            "text/plain": [
              "[<matplotlib.lines.Line2D at 0x7ff905d3bcc0>]"
            ]
          },
          "metadata": {
            "tags": []
          },
          "execution_count": 192
        },
        {
          "output_type": "display_data",
          "data": {
            "image/png": "[encoded data removed]",
            "text/plain": [
              "<Figure size 432x288 with 1 Axes>"
            ]
          },
          "metadata": {
            "tags": [],
            "needs_background": "light"
          }
        }
      ]
    },
    {
      "cell_type": "markdown",
      "metadata": {
        "id": "ByROVqG1hSVU",
        "colab_type": "text"
      },
      "source": [
        "Let's create our new model structure. Before then, we had only one linear layer, our input and output size for one layer was ('784,10'). That was because we had 784 pixels as input and 10 classes as output. Now when we have two linear layers, we need to do it differently. The input size of the first layer will be the same as before ('784'), but the output will be different. That is because now we don't output the answer directly, but we output our one layer calculations, to be used as an input to the second layer ( after applying relu).\n",
        "So first layer output and second layer input have to be the same size(we are going to select 30). And the second layer output will be 10(just like the output of the model that we had before, which used a single layer). \n",
        "\n",
        "To create this kind of model with PyTorch is very easy."
      ]
    },
    {
      "cell_type": "code",
      "metadata": {
        "id": "pHPlYU_LBF22",
        "colab_type": "code",
        "colab": {}
      },
      "source": [
        "simple_net = nn.Sequential(\n",
        "    nn.Linear(28*28,30),\n",
        "    nn.ReLU(),\n",
        "    nn.Linear(30,10)\n",
        ")"
      ],
      "execution_count": 205,
      "outputs": []
    },
    {
      "cell_type": "markdown",
      "metadata": {
        "id": "UhDHC75ji9iM",
        "colab_type": "text"
      },
      "source": [
        "Lets again use learners with the same parameters as before. The only different thing is our model."
      ]
    },
    {
      "cell_type": "code",
      "metadata": {
        "id": "gYxcBPwWBF6W",
        "colab_type": "code",
        "colab": {}
      },
      "source": [
        "learn = Learner(dls, simple_net, opt_func=SGD,\n",
        "                loss_func=loss_fn, metrics=accuracy)"
      ],
      "execution_count": 206,
      "outputs": []
    },
    {
      "cell_type": "code",
      "metadata": {
        "id": "jVk9CGYGCR7f",
        "colab_type": "code",
        "colab": {
          "base_uri": "https://localhost:8080/",
          "height": 676
        },
        "outputId": "65687d3d-ceb5-41dc-a252-a9bbf3814ce1"
      },
      "source": [
        "#hide_output\n",
        "learn.fit(20, 0.5)"
      ],
      "execution_count": 207,
      "outputs": [
        {
          "output_type": "display_data",
          "data": {
            "text/html": [
              "<table border=\"1\" class=\"dataframe\">\n",
              "  <thead>\n",
              "    <tr style=\"text-align: left;\">\n",
              "      <th>epoch</th>\n",
              "      <th>train_loss</th>\n",
              "      <th>valid_loss</th>\n",
              "      <th>accuracy</th>\n",
              "      <th>time</th>\n",
              "    </tr>\n",
              "  </thead>\n",
              "  <tbody>\n",
              "    <tr>\n",
              "      <td>0</td>\n",
              "      <td>0.189856</td>\n",
              "      <td>0.147509</td>\n",
              "      <td>0.958333</td>\n",
              "      <td>00:01</td>\n",
              "    </tr>\n",
              "    <tr>\n",
              "      <td>1</td>\n",
              "      <td>0.130752</td>\n",
              "      <td>0.122994</td>\n",
              "      <td>0.963833</td>\n",
              "      <td>00:01</td>\n",
              "    </tr>\n",
              "    <tr>\n",
              "      <td>2</td>\n",
              "      <td>0.112055</td>\n",
              "      <td>0.111091</td>\n",
              "      <td>0.967417</td>\n",
              "      <td>00:01</td>\n",
              "    </tr>\n",
              "    <tr>\n",
              "      <td>3</td>\n",
              "      <td>0.099534</td>\n",
              "      <td>0.102761</td>\n",
              "      <td>0.970000</td>\n",
              "      <td>00:01</td>\n",
              "    </tr>\n",
              "    <tr>\n",
              "      <td>4</td>\n",
              "      <td>0.089759</td>\n",
              "      <td>0.096738</td>\n",
              "      <td>0.971500</td>\n",
              "      <td>00:01</td>\n",
              "    </tr>\n",
              "    <tr>\n",
              "      <td>5</td>\n",
              "      <td>0.081751</td>\n",
              "      <td>0.092475</td>\n",
              "      <td>0.973000</td>\n",
              "      <td>00:01</td>\n",
              "    </tr>\n",
              "    <tr>\n",
              "      <td>6</td>\n",
              "      <td>0.075043</td>\n",
              "      <td>0.088797</td>\n",
              "      <td>0.974833</td>\n",
              "      <td>00:01</td>\n",
              "    </tr>\n",
              "    <tr>\n",
              "      <td>7</td>\n",
              "      <td>0.069271</td>\n",
              "      <td>0.085902</td>\n",
              "      <td>0.975667</td>\n",
              "      <td>00:01</td>\n",
              "    </tr>\n",
              "    <tr>\n",
              "      <td>8</td>\n",
              "      <td>0.064231</td>\n",
              "      <td>0.083595</td>\n",
              "      <td>0.976583</td>\n",
              "      <td>00:01</td>\n",
              "    </tr>\n",
              "    <tr>\n",
              "      <td>9</td>\n",
              "      <td>0.059664</td>\n",
              "      <td>0.081601</td>\n",
              "      <td>0.977250</td>\n",
              "      <td>00:01</td>\n",
              "    </tr>\n",
              "    <tr>\n",
              "      <td>10</td>\n",
              "      <td>0.055668</td>\n",
              "      <td>0.079715</td>\n",
              "      <td>0.977833</td>\n",
              "      <td>00:01</td>\n",
              "    </tr>\n",
              "    <tr>\n",
              "      <td>11</td>\n",
              "      <td>0.052135</td>\n",
              "      <td>0.078505</td>\n",
              "      <td>0.978250</td>\n",
              "      <td>00:01</td>\n",
              "    </tr>\n",
              "    <tr>\n",
              "      <td>12</td>\n",
              "      <td>0.048920</td>\n",
              "      <td>0.077386</td>\n",
              "      <td>0.978333</td>\n",
              "      <td>00:01</td>\n",
              "    </tr>\n",
              "    <tr>\n",
              "      <td>13</td>\n",
              "      <td>0.045912</td>\n",
              "      <td>0.076355</td>\n",
              "      <td>0.978500</td>\n",
              "      <td>00:01</td>\n",
              "    </tr>\n",
              "    <tr>\n",
              "      <td>14</td>\n",
              "      <td>0.043248</td>\n",
              "      <td>0.075571</td>\n",
              "      <td>0.978833</td>\n",
              "      <td>00:01</td>\n",
              "    </tr>\n",
              "    <tr>\n",
              "      <td>15</td>\n",
              "      <td>0.040717</td>\n",
              "      <td>0.074855</td>\n",
              "      <td>0.979167</td>\n",
              "      <td>00:01</td>\n",
              "    </tr>\n",
              "    <tr>\n",
              "      <td>16</td>\n",
              "      <td>0.038373</td>\n",
              "      <td>0.074128</td>\n",
              "      <td>0.978917</td>\n",
              "      <td>00:01</td>\n",
              "    </tr>\n",
              "    <tr>\n",
              "      <td>17</td>\n",
              "      <td>0.036223</td>\n",
              "      <td>0.073744</td>\n",
              "      <td>0.979250</td>\n",
              "      <td>00:01</td>\n",
              "    </tr>\n",
              "    <tr>\n",
              "      <td>18</td>\n",
              "      <td>0.034221</td>\n",
              "      <td>0.073306</td>\n",
              "      <td>0.979250</td>\n",
              "      <td>00:01</td>\n",
              "    </tr>\n",
              "    <tr>\n",
              "      <td>19</td>\n",
              "      <td>0.032410</td>\n",
              "      <td>0.072851</td>\n",
              "      <td>0.979417</td>\n",
              "      <td>00:01</td>\n",
              "    </tr>\n",
              "  </tbody>\n",
              "</table>"
            ],
            "text/plain": [
              "<IPython.core.display.HTML object>"
            ]
          },
          "metadata": {
            "tags": []
          }
        }
      ]
    },
    {
      "cell_type": "markdown",
      "metadata": {
        "id": "lILwnsevCNTh",
        "colab_type": "text"
      },
      "source": [
        "As you can see the accuracy increased to 98%."
      ]
    },
    {
      "cell_type": "code",
      "metadata": {
        "id": "KDa-goW6CY__",
        "colab_type": "code",
        "colab": {
          "base_uri": "https://localhost:8080/",
          "height": 265
        },
        "outputId": "3f131f15-3a20-4d67-b407-71b41fe7e64e"
      },
      "source": [
        "plt.plot(L(learn.recorder.values).itemgot(2));"
      ],
      "execution_count": 209,
      "outputs": [
        {
          "output_type": "display_data",
          "data": {
            "image/png": "[encoded data removed]",
            "text/plain": [
              "<Figure size 432x288 with 1 Axes>"
            ]
          },
          "metadata": {
            "tags": [],
            "needs_background": "light"
          }
        }
      ]
    },
    {
      "cell_type": "markdown",
      "metadata": {
        "id": "QIF66G_BjNRL",
        "colab_type": "text"
      },
      "source": [
        "Thats it. Thank you very for reading!!!"
      ]
    },
    {
      "cell_type": "code",
      "metadata": {
        "id": "4jUzJ5pJDkd6",
        "colab_type": "code",
        "colab": {
          "base_uri": "https://localhost:8080/",
          "height": 294
        },
        "outputId": "2d1bd0b6-938f-4669-efcf-196641f61342"
      },
      "source": [
        "!jupyter_to_medium --pub-name=\"Logistic Regression with Kannada-MNIST\" --tags=\"python, data science, fastai\" \"Logistic Regression with Kannada-MNIST.ipynb\""
      ],
      "execution_count": 212,
      "outputs": [
        {
          "output_type": "stream",
          "text": [
            "Traceback (most recent call last):\n",
            "  File \"/usr/local/bin/jupyter_to_medium\", line 5, in <module>\n",
            "    from jupyter_to_medium._command_line import main\n",
            "  File \"/usr/local/lib/python3.6/dist-packages/jupyter_to_medium/__init__.py\", line 1, in <module>\n",
            "    from ._publish_to_medium import publish\n",
            "  File \"/usr/local/lib/python3.6/dist-packages/jupyter_to_medium/_publish_to_medium.py\", line 10, in <module>\n",
            "    from ._preprocesors import MarkdownPreprocessor, NoExecuteDataFramePreprocessor\n",
            "  File \"/usr/local/lib/python3.6/dist-packages/jupyter_to_medium/_preprocesors.py\", line 102, in <module>\n",
            "    ss_creator = make_repr_png()\n",
            "  File \"/usr/local/lib/python3.6/dist-packages/jupyter_to_medium/_screenshot.py\", line 196, in make_repr_png\n",
            "    ss = Screenshot(max_rows, max_cols, ss_width, ss_height, resize, chrome_path)\n",
            "  File \"/usr/local/lib/python3.6/dist-packages/jupyter_to_medium/_screenshot.py\", line 74, in __init__\n",
            "    self.chrome_path = get_chrome_path(chrome_path)\n",
            "  File \"/usr/local/lib/python3.6/dist-packages/jupyter_to_medium/_screenshot.py\", line 51, in get_chrome_path\n",
            "    raise OSError(\"Chrome executable not able to be found on your machine\")\n",
            "OSError: Chrome executable not able to be found on your machine\n"
          ],
          "name": "stdout"
        }
      ]
    },
    {
      "cell_type": "code",
      "metadata": {
        "id": "jSNt2dzmEOvJ",
        "colab_type": "code",
        "colab": {}
      },
      "source": [
        ""
      ],
      "execution_count": null,
      "outputs": []
    }
  ]
}